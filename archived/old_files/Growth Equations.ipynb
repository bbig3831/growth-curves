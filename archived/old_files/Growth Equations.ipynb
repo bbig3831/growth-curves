{
 "cells": [
  {
   "cell_type": "code",
   "execution_count": null,
   "metadata": {
    "collapsed": true
   },
   "outputs": [],
   "source": [
    "### Growth Equations Module\n",
    "import numpy as np\n",
    "\n",
    "###Gompertz Growth Equation\n",
    "def gompertz(a,mu,lamb,t):\n",
    "    return a*np.exp(-np.exp(mu*np.exp(1)/a*(lamb-t)+1))\n",
    "\n",
    "###Logistic Growth E"
   ]
  }
 ],
 "metadata": {
  "kernelspec": {
   "display_name": "Python 3",
   "language": "python",
   "name": "python3"
  },
  "language_info": {
   "codemirror_mode": {
    "name": "ipython",
    "version": 3
   },
   "file_extension": ".py",
   "mimetype": "text/x-python",
   "name": "python",
   "nbconvert_exporter": "python",
   "pygments_lexer": "ipython3",
   "version": "3.5.1"
  }
 },
 "nbformat": 4,
 "nbformat_minor": 0
}

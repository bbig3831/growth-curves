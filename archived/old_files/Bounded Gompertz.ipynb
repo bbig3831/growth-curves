{
 "cells": [
  {
   "cell_type": "code",
   "execution_count": 1,
   "metadata": {
    "collapsed": false
   },
   "outputs": [],
   "source": [
    "import numpy as np\n",
    "import matplotlib.pyplot as plt\n",
    "import seaborn as sns\n",
    "import pandas as pd\n",
    "from pandas import Series,DataFrame\n",
    "from lmfit import Model\n",
    "from numpy import exp"
   ]
  },
  {
   "cell_type": "code",
   "execution_count": 2,
   "metadata": {
    "collapsed": true
   },
   "outputs": [],
   "source": [
    "def gompertz(t,A,mu,lamb):\n",
    "    y = A*exp(-exp(mu*exp(1)/A*(lamb-t)+1))\n",
    "    return y"
   ]
  },
  {
   "cell_type": "code",
   "execution_count": 3,
   "metadata": {
    "collapsed": false
   },
   "outputs": [],
   "source": [
    "gomp_mod = Model(gompertz)"
   ]
  },
  {
   "cell_type": "code",
   "execution_count": 4,
   "metadata": {
    "collapsed": false
   },
   "outputs": [],
   "source": [
    "data = pd.ExcelFile('ART_coverage2.xlsx')\n",
    "dframe = data.parse('Data')\n",
    "dframe2 = dframe.pivot_table(index='Country Name',columns='Year',values='Value')\n",
    "dframe2 = dframe2.dropna(axis=0,how='all')\n",
    "dframe2 = dframe2.dropna(axis=1,how='all')\n",
    "diff = dframe2.diff(axis=1)\n",
    "diff.fillna(0,inplace=True)"
   ]
  },
  {
   "cell_type": "code",
   "execution_count": 5,
   "metadata": {
    "collapsed": true
   },
   "outputs": [],
   "source": [
    "t = np.arange(0,15)\n",
    "y = np.asarray(dframe2.ix['Argentina'])"
   ]
  },
  {
   "cell_type": "code",
   "execution_count": 6,
   "metadata": {
    "collapsed": false
   },
   "outputs": [],
   "source": [
    "params = gomp_mod.make_params()"
   ]
  },
  {
   "cell_type": "code",
   "execution_count": 7,
   "metadata": {
    "collapsed": true
   },
   "outputs": [],
   "source": [
    "gomp_mod.set_param_hint('A',value=dframe2.ix['Argentina'].max(),min=0,max=100)\n",
    "gomp_mod.set_param_hint('mu',value=diff.ix['Argentina'].max())\n",
    "gomp_mod.set_param_hint('lamb',value=0)"
   ]
  },
  {
   "cell_type": "code",
   "execution_count": 8,
   "metadata": {
    "collapsed": false
   },
   "outputs": [],
   "source": [
    "result = gomp_mod.fit(y,t=t)"
   ]
  },
  {
   "cell_type": "code",
   "execution_count": 9,
   "metadata": {
    "collapsed": false
   },
   "outputs": [
    {
     "name": "stdout",
     "output_type": "stream",
     "text": [
      "[[Model]]\n",
      "    Model(gompertz)\n",
      "[[Fit Statistics]]\n",
      "    # function evals   = 68\n",
      "    # data points      = 15\n",
      "    # variables        = 3\n",
      "    chi-square         = 61.155\n",
      "    reduced chi-square = 5.096\n",
      "    Akaike info crit   = 30.428\n",
      "    Bayesian info crit = 32.552\n",
      "[[Variables]]\n",
      "    A:      73.1281530 +/- 16.49290 (22.55%) (init= 58.75)\n",
      "    mu:     2.31238112 +/- 0.544336 (23.54%) (init= 7.5)\n",
      "    lamb:  -12.7661292 +/- 3.546308 (27.78%) (init= 0)\n",
      "[[Correlations]] (unreported correlations are <  0.100)\n",
      "    C(mu, lamb)                  =  0.993 \n",
      "    C(A, mu)                     = -0.947 \n",
      "    C(A, lamb)                   = -0.916 \n",
      "\n"
     ]
    }
   ],
   "source": [
    "print(result.fit_report())"
   ]
  },
  {
   "cell_type": "code",
   "execution_count": 10,
   "metadata": {
    "collapsed": false
   },
   "outputs": [
    {
     "data": {
      "text/plain": [
       "32.551674679518385"
      ]
     },
     "execution_count": 10,
     "metadata": {},
     "output_type": "execute_result"
    }
   ],
   "source": [
    "result.bic"
   ]
  },
  {
   "cell_type": "code",
   "execution_count": 11,
   "metadata": {
    "collapsed": false
   },
   "outputs": [],
   "source": [
    "y=dframe2.ix['Argentina']\n",
    "plt.plot(t, y,         'bo')\n",
    "plt.plot(t, result.init_fit, 'k--')\n",
    "plt.plot(t, result.best_fit, 'r-')\n",
    "plt.show()"
   ]
  },
  {
   "cell_type": "code",
   "execution_count": 12,
   "metadata": {
    "collapsed": true
   },
   "outputs": [],
   "source": [
    "### Initialize dictionary\n",
    "gomp_dict ={}"
   ]
  },
  {
   "cell_type": "code",
   "execution_count": 13,
   "metadata": {
    "collapsed": true
   },
   "outputs": [],
   "source": [
    "### Iterate model build for each country\n",
    "for i in range(0,len(dframe2)):\n",
    "    ### Select country\n",
    "    country = dframe2.index[i]\n",
    "    ### Select coverage values\n",
    "    y = np.asarray(dframe2.ix[country])\n",
    "    ### Set parameter hints\n",
    "    gomp_mod.set_param_hint('A',value=dframe2.ix[country].max(),min=0,max=100)\n",
    "    gomp_mod.set_param_hint('mu',value=diff.ix[country].max())\n",
    "    gomp_mod.set_param_hint('lamb',value=0)\n",
    "    ### Fit model\n",
    "    result = gomp_mod.fit(y,t=t,verbose=False)\n",
    "    ### Store fitted model in dictionary\n",
    "    gomp_dict[country] = result"
   ]
  },
  {
   "cell_type": "code",
   "execution_count": 14,
   "metadata": {
    "collapsed": true
   },
   "outputs": [],
   "source": [
    "def logistic(t,A,mu,lamb):\n",
    "    y = A/(1+exp((4*mu/A)*(lamb-t)+2))\n",
    "    return y"
   ]
  },
  {
   "cell_type": "code",
   "execution_count": 15,
   "metadata": {
    "collapsed": true
   },
   "outputs": [],
   "source": [
    "logmod = Model(logistic)"
   ]
  },
  {
   "cell_type": "code",
   "execution_count": 16,
   "metadata": {
    "collapsed": true
   },
   "outputs": [],
   "source": [
    "### Initialize dictionary\n",
    "log_dict ={}"
   ]
  },
  {
   "cell_type": "code",
   "execution_count": 17,
   "metadata": {
    "collapsed": true
   },
   "outputs": [],
   "source": [
    "### Iterate model build for each country\n",
    "for i in range(0,len(dframe2)):\n",
    "    ### Select country\n",
    "    country = dframe2.index[i]\n",
    "    ### Select coverage values\n",
    "    y = np.asarray(dframe2.ix[country])\n",
    "    ### Set parameter hints\n",
    "    logmod.set_param_hint('A',value=dframe2.ix[country].max(),min=0,max=100)\n",
    "    logmod.set_param_hint('mu',value=diff.ix[country].max())\n",
    "    logmod.set_param_hint('lamb',value=0)\n",
    "    ### Fit model\n",
    "    result = logmod.fit(y,t=t,verbose=False)\n",
    "    ### Store fitted model in dictionary\n",
    "    log_dict[country] = result"
   ]
  },
  {
   "cell_type": "code",
   "execution_count": 19,
   "metadata": {
    "collapsed": true
   },
   "outputs": [],
   "source": [
    "import os"
   ]
  },
  {
   "cell_type": "code",
   "execution_count": 20,
   "metadata": {
    "collapsed": true
   },
   "outputs": [],
   "source": [
    "subsahara=['Angola','Benin','Botswana','Burkina Faso','Burundi','Cameroon',\n",
    "           'Cabo Verde','Central African Republic','Chad','Cote d\\'Ivoire',\n",
    "          'Eritrea','Gabon','Ghana','Guinea','Guinea-Bissau','Kenya',\n",
    "          'Lesotho','Liberia','Madagascar','Malawi','Mali','Mauritania','Mauritius',\n",
    "          'Mozambique','Namibia','Niger','Nigeria','Rwanda','Sao Tome and Principe',\n",
    "          'Senegal','Sierra Leone','Somalia','South Africa',\n",
    "          'South Sudan','Sudan','Swaziland','Tanzania','Togo','Uganda','Zambia',\n",
    "          'Zimbabwe','Equatorial Guinea','Ethiopia','Congo, Rep.','Congo, Dem. Rep.']"
   ]
  },
  {
   "cell_type": "code",
   "execution_count": 57,
   "metadata": {
    "collapsed": false
   },
   "outputs": [],
   "source": [
    "country='South Sudan'\n",
    "axis_font = {'size':'16'}\n",
    "t2=np.linspace(0,20,100)\n",
    "y=dframe2.ix[country]\n",
    "fig=plt.figure()\n",
    "plt.plot(t, y, 'bs',label='Data')\n",
    "plt.plot(t2, gomp_dict[country].eval(t=t2), 'r',label='Gompertz')\n",
    "plt.plot(t2, log_dict[country].eval(t=t2), 'g--',label='Logistic')\n",
    "plt.axis(x=np.linspace(0,20,1))\n",
    "plt.ylabel('ART coverage (%)',**axis_font)\n",
    "plt.xlabel('Time (in years since 2000)',**axis_font)\n",
    "plt.xticks(fontsize=16)\n",
    "plt.yticks(fontsize=16)\n",
    "plt.legend(loc='upper left',bbox_to_anchor=(1,0.5))\n",
    "plt.show()"
   ]
  },
  {
   "cell_type": "code",
   "execution_count": 45,
   "metadata": {
    "collapsed": false
   },
   "outputs": [
    {
     "data": {
      "text/plain": [
       "array([  0.0930189 ,   0.11934429,   0.15176373,   0.19134104,\n",
       "         0.23925177,   0.29678185,   0.36532414,   0.44637262,\n",
       "         0.54151425,   0.6524186 ,   0.78082522,   0.92852913,\n",
       "         1.09736448,   1.28918675,   1.50585385,   1.74920639,\n",
       "         2.02104752,   2.32312279,   2.65710026,   3.0245514 ,\n",
       "         3.42693294,   3.86557015,   4.34164162,   4.85616598,\n",
       "         5.40999052,   6.00378206,   6.63801995,   7.31299135,\n",
       "         8.02878876,   8.78530974,   9.58225874,  10.4191509 ,\n",
       "        11.2953177 ,  12.20991429,  13.16192828,  14.15018987,\n",
       "        15.17338303,  16.23005758,  17.318642  ,  18.43745669,\n",
       "        19.5847275 ,  20.75859951,  21.9571507 ,  23.17840541,\n",
       "        24.42034759,  25.68093352,  26.95810409,  28.24979644,\n",
       "        29.55395485,  30.86854103,  32.19154355,  33.52098645,\n",
       "        34.85493714,  36.19151336,  37.52888944,  38.86530167,\n",
       "        40.19905296,  41.52851674,  42.8521401 ,  44.16844633,\n",
       "        45.47603676,  46.77359203,  48.0598728 ,  49.33371996,\n",
       "        50.5940544 ,  51.83987627,  53.07026401,  54.28437291,\n",
       "        55.48143346,  56.6607494 ,  57.8216956 ,  58.96371571,\n",
       "        60.08631966,  61.18908109,  62.27163465,  63.33367322,\n",
       "        64.37494509,  65.39525119,  66.39444217,  67.37241565,\n",
       "        68.3291134 ,  69.26451855,  70.17865296,  71.07157452,\n",
       "        71.9433746 ,  72.79417558,  73.62412838,  74.4334102 ,\n",
       "        75.22222226,  75.99078765,  76.73934932,  77.46816808,\n",
       "        78.17752079,  78.86769858,  79.53900519,  80.1917554 ,\n",
       "        80.82627355,  81.44289214,  82.04195054,  82.62379376])"
      ]
     },
     "execution_count": 45,
     "metadata": {},
     "output_type": "execute_result"
    }
   ],
   "source": [
    "gomp_dict[country].eval(t=t2)"
   ]
  },
  {
   "cell_type": "code",
   "execution_count": 20,
   "metadata": {
    "collapsed": false
   },
   "outputs": [
    {
     "name": "stderr",
     "output_type": "stream",
     "text": [
      "C:\\Users\\Ben\\Anaconda3\\lib\\site-packages\\matplotlib\\pyplot.py:516: RuntimeWarning: More than 20 figures have been opened. Figures created through the pyplot interface (`matplotlib.pyplot.figure`) are retained until explicitly closed and may consume too much memory. (To control this warning, see the rcParam `figure.max_open_warning`).\n",
      "  max_open_warning, RuntimeWarning)\n"
     ]
    }
   ],
   "source": [
    "for country in subsahara:\n",
    "    t2=np.linspace(0,21,100)\n",
    "    y=dframe2.ix[country]\n",
    "    fig=plt.figure()\n",
    "    plt.plot(t, y,         'bo')\n",
    "    plt.plot(t2, gomp_dict[country].eval(t=t2), 'r-')\n",
    "    plt.plot(t2, log_dict[country].eval(t=t2), 'g--')\n",
    "    plt.title(country)\n",
    "    plt.axis(x=np.arange(0,20))\n",
    "    plt.ylabel('ART coverage (%)')\n",
    "    plt.xlabel('Time (in years since 2000)')\n",
    "    filename=country+'.png'\n",
    "    plt.savefig(filename)"
   ]
  },
  {
   "cell_type": "code",
   "execution_count": 21,
   "metadata": {
    "collapsed": true
   },
   "outputs": [],
   "source": [
    "#### Countries to be fixed\n",
    "### Gompertz - Benin, Chad, Senegal, Somalia, Sudan\n",
    "### Logistic - Sao Tome and Principe, Sudan, Uganda\n",
    "fixed_gomp = {}\n",
    "bad_fits_gomp = ['Benin','Chad','Senegal','Somalia','Sudan']\n",
    "t = np.arange(0,15)\n",
    "for country in bad_fits_gomp:\n",
    "    y = np.asarray(dframe2.ix[country])\n",
    "    gomp_mod.set_param_hint('A',value=dframe2.ix[country].max(),min=0,max=100)\n",
    "    gomp_mod.set_param_hint('mu',value=diff.ix[country].max(),min=0)\n",
    "    gomp_mod.set_param_hint('lamb',value=0)\n",
    "    result = gomp_mod.fit(y,t=t,verbose=False)\n",
    "    fixed_gomp[country]=result"
   ]
  },
  {
   "cell_type": "code",
   "execution_count": 22,
   "metadata": {
    "collapsed": false
   },
   "outputs": [],
   "source": [
    "### Fixed: Chad, Somalia\n",
    "gomp_dict['Chad'] = fixed_gomp['Chad']\n",
    "gomp_dict['Somalia'] = fixed_gomp['Somalia']"
   ]
  },
  {
   "cell_type": "code",
   "execution_count": 23,
   "metadata": {
    "collapsed": false
   },
   "outputs": [],
   "source": [
    "#### Benin\n",
    "country='Benin'\n",
    "y = np.asarray(dframe2.ix[country])\n",
    "### Set hints from successful logistic fit\n",
    "gomp_mod.set_param_hint('A',value=46,min=0,max=100)\n",
    "gomp_mod.set_param_hint('mu',value=15,min=0)\n",
    "gomp_mod.set_param_hint('lamb',value=7)\n",
    "result = gomp_mod.fit(y,t=t,verbose=False)\n",
    "fixed_gomp[country]=result\n",
    "### Fixed\n",
    "gomp_dict['Benin']=fixed_gomp['Benin']"
   ]
  },
  {
   "cell_type": "code",
   "execution_count": 24,
   "metadata": {
    "collapsed": true
   },
   "outputs": [],
   "source": [
    "#### Senegal\n",
    "country='Senegal'\n",
    "y = np.asarray(dframe2.ix[country])\n",
    "### Set hints from successful logistic fit\n",
    "gomp_mod.set_param_hint('A',value=46,min=0,max=100)\n",
    "gomp_mod.set_param_hint('mu',value=8,min=0)\n",
    "gomp_mod.set_param_hint('lamb',value=5)\n",
    "result = gomp_mod.fit(y,t=t,verbose=False)\n",
    "fixed_gomp[country]=result\n",
    "### Fixed\n",
    "gomp_dict['Senegal'] = fixed_gomp['Senegal']"
   ]
  },
  {
   "cell_type": "code",
   "execution_count": 25,
   "metadata": {
    "collapsed": true
   },
   "outputs": [],
   "source": [
    "### Sudan\n",
    "country='Sudan'\n",
    "y = np.asarray(dframe2.ix[country])\n",
    "### Set hints from successful logistic fit\n",
    "gomp_mod.set_param_hint('A',value=90,min=0,max=100)\n",
    "gomp_mod.set_param_hint('mu',value=7,min=0)\n",
    "gomp_mod.set_param_hint('lamb',value=10)\n",
    "result = gomp_mod.fit(y,t=t,verbose=False)\n",
    "fixed_gomp[country]=result\n",
    "### Fixed\n",
    "gomp_dict['Sudan'] = fixed_gomp['Sudan']"
   ]
  },
  {
   "cell_type": "code",
   "execution_count": 26,
   "metadata": {
    "collapsed": false
   },
   "outputs": [
    {
     "name": "stdout",
     "output_type": "stream",
     "text": [
      "Bolivia {'lamb': 8.2197730719398407, 'A': 99.999999998836557, 'mu': 4.2466179149880716}\n",
      "AIC: 16.2122420003\n",
      "BIC: 18.3363926036\n"
     ]
    }
   ],
   "source": [
    "### Bolivia\n",
    "country='Bolivia'\n",
    "y = np.asarray(dframe2.ix[country])\n",
    "### Set hints from successful logistic fit\n",
    "gomp_mod.set_param_hint('A',value=90,min=0,max=100)\n",
    "gomp_mod.set_param_hint('mu',value=7,min=0)\n",
    "gomp_mod.set_param_hint('lamb',value=5)\n",
    "result = gomp_mod.fit(y,t=t,verbose=False)\n",
    "fixed_gomp[country]=result\n",
    "print(country,fixed_gomp['Bolivia'].best_values)\n",
    "print('AIC:',fixed_gomp['Bolivia'].aic)\n",
    "print('BIC:',fixed_gomp['Bolivia'].bic)"
   ]
  },
  {
   "cell_type": "code",
   "execution_count": 27,
   "metadata": {
    "collapsed": true
   },
   "outputs": [],
   "source": [
    "### Logistic fix\n",
    "fixed_log = {}\n",
    "bad_fits_log = ['Sao Tome and Principe','Sudan','Uganda']\n",
    "for country in bad_fits_log:\n",
    "    y = np.asarray(dframe2.ix[country])\n",
    "    logmod.set_param_hint('A',value=dframe2.ix[country].max(),min=0,max=100)\n",
    "    logmod.set_param_hint('mu',value=diff.ix[country].max(),min=0)\n",
    "    logmod.set_param_hint('lamb',value=0)\n",
    "    result = logmod.fit(y,t=t,verbose=False)\n",
    "    fixed_log[country]=result"
   ]
  },
  {
   "cell_type": "code",
   "execution_count": 28,
   "metadata": {
    "collapsed": true
   },
   "outputs": [],
   "source": [
    "### Fixed: Uganda, Sao Tome and Principe\n",
    "log_dict['Sao Tome and Principe'] = fixed_log['Sao Tome and Principe']\n",
    "log_dict['Uganda'] = fixed_log['Uganda']"
   ]
  },
  {
   "cell_type": "code",
   "execution_count": 29,
   "metadata": {
    "collapsed": false
   },
   "outputs": [],
   "source": [
    "### Sudan\n",
    "country='Sudan'\n",
    "y = np.asarray(dframe2.ix[country])\n",
    "logmod.set_param_hint('A',value=10,min=0,max=100)\n",
    "logmod.set_param_hint('mu',value=1,min=0)\n",
    "logmod.set_param_hint('lamb',value=2)\n",
    "result = logmod.fit(y,t=t,verbose=False)\n",
    "fixed_log[country] = result\n",
    "### Fixed\n",
    "log_dict['Sudan'] = fixed_log['Sudan']"
   ]
  },
  {
   "cell_type": "code",
   "execution_count": 30,
   "metadata": {
    "collapsed": false
   },
   "outputs": [
    {
     "name": "stdout",
     "output_type": "stream",
     "text": [
      "Algeria {'lamb': 5.5771703767986791, 'A': 87.304516482746948, 'mu': 8.3298573584427462}\n",
      "AIC: 55.2033409215\n",
      "BIC: 57.3274915248\n"
     ]
    }
   ],
   "source": [
    "### Algeria\n",
    "country='Algeria'\n",
    "y = np.asarray(dframe2.ix[country])\n",
    "logmod.set_param_hint('A',value=90,min=0,max=100)\n",
    "logmod.set_param_hint('mu',value=7,min=0)\n",
    "logmod.set_param_hint('lamb',value=4)\n",
    "result = logmod.fit(y,t=t,verbose=False)\n",
    "fixed_log[country] = result\n",
    "print(country,fixed_log['Algeria'].best_values)\n",
    "print('AIC:',fixed_log['Algeria'].aic)\n",
    "print('BIC:',fixed_log['Algeria'].bic)"
   ]
  },
  {
   "cell_type": "code",
   "execution_count": 39,
   "metadata": {
    "collapsed": true
   },
   "outputs": [],
   "source": [
    "gomp_dict['Cuba'].plot_fit()\n",
    "plt.show()"
   ]
  },
  {
   "cell_type": "code",
   "execution_count": 31,
   "metadata": {
    "collapsed": false
   },
   "outputs": [
    {
     "name": "stdout",
     "output_type": "stream",
     "text": [
      "Uzbekistan {'lamb': 10.764464167350875, 'A': 99.999999999028446, 'mu': 13.063134783685154}\n",
      "AIC: -2.73431072151\n",
      "BIC: -0.610160118199\n"
     ]
    }
   ],
   "source": [
    "### Uzbekistan\n",
    "country='Uzbekistan'\n",
    "y = np.asarray(dframe2.ix[country])\n",
    "logmod.set_param_hint('A',value=90,min=0,max=100)\n",
    "logmod.set_param_hint('mu',value=7,min=0)\n",
    "logmod.set_param_hint('lamb',value=8)\n",
    "result = logmod.fit(y,t=t,verbose=False)\n",
    "fixed_log[country] = result\n",
    "print(country,fixed_log['Uzbekistan'].best_values)\n",
    "print('AIC:',fixed_log['Uzbekistan'].aic)\n",
    "print('BIC:',fixed_log['Uzbekistan'].bic)"
   ]
  },
  {
   "cell_type": "code",
   "execution_count": 32,
   "metadata": {
    "collapsed": false
   },
   "outputs": [
    {
     "name": "stdout",
     "output_type": "stream",
     "text": [
      "Colombia {'lamb': 6.861379671055821, 'A': 99.999999860219461, 'mu': 6.9023989508828043}\n",
      "AIC: 35.866067006\n",
      "BIC: 37.9902176093\n"
     ]
    }
   ],
   "source": [
    "country='Colombia'\n",
    "y = np.asarray(dframe2.ix[country])\n",
    "logmod.set_param_hint('A',value=90,min=0,max=100)\n",
    "logmod.set_param_hint('mu',value=7,min=0)\n",
    "logmod.set_param_hint('lamb',value=8)\n",
    "result = logmod.fit(y,t=t,verbose=False)\n",
    "fixed_log[country] = result\n",
    "print(country,fixed_log['Colombia'].best_values)\n",
    "print('AIC:',fixed_log['Colombia'].aic)\n",
    "print('BIC:',fixed_log['Colombia'].bic)"
   ]
  },
  {
   "cell_type": "code",
   "execution_count": 33,
   "metadata": {
    "collapsed": false
   },
   "outputs": [
    {
     "name": "stderr",
     "output_type": "stream",
     "text": [
      "C:\\Users\\Ben\\Anaconda3\\lib\\site-packages\\matplotlib\\pyplot.py:516: RuntimeWarning: More than 20 figures have been opened. Figures created through the pyplot interface (`matplotlib.pyplot.figure`) are retained until explicitly closed and may consume too much memory. (To control this warning, see the rcParam `figure.max_open_warning`).\n",
      "  max_open_warning, RuntimeWarning)\n"
     ]
    }
   ],
   "source": [
    "### Generate new figures \n",
    "fixed_plots = ['Benin','Chad','Senegal','Somalia','Sudan','Sao Tome and Principe','Uganda']\n",
    "for country in fixed_plots:\n",
    "    t2=np.arange(0,21)\n",
    "    y=dframe2.ix[country]\n",
    "    fig=plt.figure()\n",
    "    plt.plot(t, y,         'bo')\n",
    "    plt.plot(t2, gomp_dict[country].eval(t=t2), 'r-')\n",
    "    plt.plot(t2, log_dict[country].eval(t=t2), 'g--')\n",
    "    plt.title(country)\n",
    "    plt.axis(x=np.arange(0,20))\n",
    "    plt.ylabel('ART coverage (%)')\n",
    "    plt.xlabel('Time (in years since 2000)')\n",
    "    filename=country+'.png'\n",
    "    plt.savefig(filename)"
   ]
  },
  {
   "cell_type": "code",
   "execution_count": 102,
   "metadata": {
    "collapsed": false
   },
   "outputs": [
    {
     "name": "stdout",
     "output_type": "stream",
     "text": [
      "Gompertz\n",
      "Benin {'mu': 16.703609217725635, 'A': 43.873947820770162, 'lamb': 6.8622548899168798}\n",
      "AIC: 35.7852413681\n",
      "BIC: 37.9093919714\n",
      "Chad {'mu': 3.7396198903530911, 'A': 32.158594086328662, 'lamb': 5.3075909887312331}\n",
      "AIC: 11.653494487\n",
      "BIC: 13.7776450903\n",
      "Senegal {'mu': 7.5755889698460646, 'A': 42.973564458946775, 'lamb': 5.1955520209584094}\n",
      "AIC: 41.9386123655\n",
      "BIC: 44.0627629688\n",
      "Somalia {'mu': 0.95709819474999391, 'A': 8.2779112494643652, 'lamb': 6.4929229663912347}\n",
      "AIC: -30.3930914392\n",
      "BIC: -28.2689408359\n",
      "Sudan {'mu': 3.9832510373647692, 'A': 7.0975409279409094, 'lamb': 7.0912595467610995}\n",
      "AIC: -7.87498528166\n",
      "BIC: -5.75083467835\n",
      "Logistic\n",
      "Sao Tome and Principe {'mu': 7.6365416766888981, 'A': 68.866453467196791, 'lamb': 7.3252353605365981}\n",
      "AIC: 10.079758167\n",
      "BIC: 12.2039087703\n",
      "Sudan {'mu': 5.0079749906210251, 'A': 6.9495658314029036, 'lamb': 7.2830464196349061}\n",
      "AIC: -6.29178856067\n",
      "BIC: -4.16763795737\n",
      "Uganda {'mu': 8.1645654735134308, 'A': 99.999996780867122, 'lamb': 6.7747210995646281}\n",
      "AIC: 35.2993945784\n",
      "BIC: 37.4235451817\n"
     ]
    }
   ],
   "source": [
    "print('Gompertz')\n",
    "for country in bad_fits_gomp:\n",
    "    print(country,gomp_dict[country].best_values)\n",
    "    print('AIC:',gomp_dict[country].aic)\n",
    "    print('BIC:',gomp_dict[country].bic)\n",
    "    \n",
    "print('Logistic')\n",
    "for country in bad_fits_log:\n",
    "    print(country,log_dict[country].best_values)\n",
    "    print('AIC:',log_dict[country].aic)\n",
    "    print('BIC:',log_dict[country].bic)"
   ]
  },
  {
   "cell_type": "code",
   "execution_count": 26,
   "metadata": {
    "collapsed": false
   },
   "outputs": [
    {
     "data": {
      "text/plain": [
       "{'A': 56.192524710023108, 'lamb': 5.5434641721958986, 'mu': 6.264790720132293}"
      ]
     },
     "execution_count": 26,
     "metadata": {},
     "output_type": "execute_result"
    }
   ],
   "source": [
    "gomp_dict['Vietnam'].best_values"
   ]
  },
  {
   "cell_type": "code",
   "execution_count": 27,
   "metadata": {
    "collapsed": false
   },
   "outputs": [
    {
     "data": {
      "text/html": [
       "<div>\n",
       "<table border=\"1\" class=\"dataframe\">\n",
       "  <thead>\n",
       "    <tr style=\"text-align: right;\">\n",
       "      <th></th>\n",
       "      <th>Country Name</th>\n",
       "      <th>Total Population (2015)</th>\n",
       "    </tr>\n",
       "  </thead>\n",
       "  <tbody>\n",
       "    <tr>\n",
       "      <th>0</th>\n",
       "      <td>Afghanistan</td>\n",
       "      <td>32527000</td>\n",
       "    </tr>\n",
       "    <tr>\n",
       "      <th>1</th>\n",
       "      <td>Albania</td>\n",
       "      <td>2906000</td>\n",
       "    </tr>\n",
       "    <tr>\n",
       "      <th>2</th>\n",
       "      <td>Algeria</td>\n",
       "      <td>39667000</td>\n",
       "    </tr>\n",
       "    <tr>\n",
       "      <th>3</th>\n",
       "      <td>American Samoa</td>\n",
       "      <td>56000</td>\n",
       "    </tr>\n",
       "    <tr>\n",
       "      <th>4</th>\n",
       "      <td>Andorra</td>\n",
       "      <td>70000</td>\n",
       "    </tr>\n",
       "  </tbody>\n",
       "</table>\n",
       "</div>"
      ],
      "text/plain": [
       "     Country Name  Total Population (2015)\n",
       "0     Afghanistan                 32527000\n",
       "1         Albania                  2906000\n",
       "2         Algeria                 39667000\n",
       "3  American Samoa                    56000\n",
       "4         Andorra                    70000"
      ]
     },
     "execution_count": 27,
     "metadata": {},
     "output_type": "execute_result"
    }
   ],
   "source": [
    "pop_data = pd.ExcelFile('Total_Population_2015.xlsx')\n",
    "pop_frame = pop_data.parse('Data')\n",
    "pop_frame.head()"
   ]
  },
  {
   "cell_type": "code",
   "execution_count": 28,
   "metadata": {
    "collapsed": true
   },
   "outputs": [],
   "source": [
    "pop_frame=pop_frame[pop_frame['Total Population (2015)']>1000000]"
   ]
  },
  {
   "cell_type": "code",
   "execution_count": 29,
   "metadata": {
    "collapsed": false
   },
   "outputs": [
    {
     "data": {
      "text/plain": [
       "191"
      ]
     },
     "execution_count": 29,
     "metadata": {},
     "output_type": "execute_result"
    }
   ],
   "source": [
    "len(pop_frame)"
   ]
  },
  {
   "cell_type": "code",
   "execution_count": 30,
   "metadata": {
    "collapsed": false
   },
   "outputs": [],
   "source": [
    "estFrame = DataFrame(columns=['Country Name','A','lamb','mu','AIC','BIC'])"
   ]
  },
  {
   "cell_type": "code",
   "execution_count": 31,
   "metadata": {
    "collapsed": false
   },
   "outputs": [],
   "source": [
    "for country in gomp_dict:\n",
    "    dic = gomp_dict[country].best_values\n",
    "    dic['Country Name'] = country\n",
    "    dic['AIC']=gomp_dict[country].aic\n",
    "    dic['BIC']=gomp_dict[country].bic\n",
    "    estFrame = estFrame.append(dic,ignore_index=True)"
   ]
  },
  {
   "cell_type": "code",
   "execution_count": 32,
   "metadata": {
    "collapsed": false
   },
   "outputs": [
    {
     "data": {
      "text/html": [
       "<div>\n",
       "<table border=\"1\" class=\"dataframe\">\n",
       "  <thead>\n",
       "    <tr style=\"text-align: right;\">\n",
       "      <th></th>\n",
       "      <th>Country Name</th>\n",
       "      <th>A</th>\n",
       "      <th>lamb</th>\n",
       "      <th>mu</th>\n",
       "      <th>AIC</th>\n",
       "      <th>BIC</th>\n",
       "    </tr>\n",
       "  </thead>\n",
       "  <tbody>\n",
       "    <tr>\n",
       "      <th>0</th>\n",
       "      <td>Oman</td>\n",
       "      <td>99.999996</td>\n",
       "      <td>-9.324894</td>\n",
       "      <td>2.145867</td>\n",
       "      <td>63.461133</td>\n",
       "      <td>65.585284</td>\n",
       "    </tr>\n",
       "    <tr>\n",
       "      <th>1</th>\n",
       "      <td>Guinea</td>\n",
       "      <td>38.099388</td>\n",
       "      <td>5.349926</td>\n",
       "      <td>4.912033</td>\n",
       "      <td>13.150502</td>\n",
       "      <td>15.274653</td>\n",
       "    </tr>\n",
       "    <tr>\n",
       "      <th>2</th>\n",
       "      <td>Ghana</td>\n",
       "      <td>55.818384</td>\n",
       "      <td>6.381934</td>\n",
       "      <td>6.085414</td>\n",
       "      <td>9.783688</td>\n",
       "      <td>11.907839</td>\n",
       "    </tr>\n",
       "    <tr>\n",
       "      <th>3</th>\n",
       "      <td>South Africa</td>\n",
       "      <td>99.999987</td>\n",
       "      <td>7.394285</td>\n",
       "      <td>8.873088</td>\n",
       "      <td>37.127902</td>\n",
       "      <td>39.252053</td>\n",
       "    </tr>\n",
       "    <tr>\n",
       "      <th>4</th>\n",
       "      <td>Tunisia</td>\n",
       "      <td>28.884836</td>\n",
       "      <td>-0.544972</td>\n",
       "      <td>4.016785</td>\n",
       "      <td>23.463552</td>\n",
       "      <td>25.587703</td>\n",
       "    </tr>\n",
       "    <tr>\n",
       "      <th>5</th>\n",
       "      <td>Guinea-Bissau</td>\n",
       "      <td>29.398491</td>\n",
       "      <td>6.138490</td>\n",
       "      <td>3.448398</td>\n",
       "      <td>-15.437271</td>\n",
       "      <td>-13.313120</td>\n",
       "    </tr>\n",
       "    <tr>\n",
       "      <th>6</th>\n",
       "      <td>Arab World</td>\n",
       "      <td>50.629317</td>\n",
       "      <td>5.582012</td>\n",
       "      <td>2.342654</td>\n",
       "      <td>-25.995043</td>\n",
       "      <td>-23.870892</td>\n",
       "    </tr>\n",
       "    <tr>\n",
       "      <th>7</th>\n",
       "      <td>Sub-Saharan Africa (all income levels)</td>\n",
       "      <td>99.999999</td>\n",
       "      <td>6.135956</td>\n",
       "      <td>6.523696</td>\n",
       "      <td>-3.748940</td>\n",
       "      <td>-1.624789</td>\n",
       "    </tr>\n",
       "    <tr>\n",
       "      <th>8</th>\n",
       "      <td>Guatemala</td>\n",
       "      <td>53.018204</td>\n",
       "      <td>1.879260</td>\n",
       "      <td>4.460883</td>\n",
       "      <td>35.177226</td>\n",
       "      <td>37.301377</td>\n",
       "    </tr>\n",
       "    <tr>\n",
       "      <th>9</th>\n",
       "      <td>Cuba</td>\n",
       "      <td>90.794056</td>\n",
       "      <td>-2.102193</td>\n",
       "      <td>6.436206</td>\n",
       "      <td>75.958529</td>\n",
       "      <td>78.082680</td>\n",
       "    </tr>\n",
       "  </tbody>\n",
       "</table>\n",
       "</div>"
      ],
      "text/plain": [
       "                             Country Name          A      lamb        mu  \\\n",
       "0                                    Oman  99.999996 -9.324894  2.145867   \n",
       "1                                  Guinea  38.099388  5.349926  4.912033   \n",
       "2                                   Ghana  55.818384  6.381934  6.085414   \n",
       "3                            South Africa  99.999987  7.394285  8.873088   \n",
       "4                                 Tunisia  28.884836 -0.544972  4.016785   \n",
       "5                           Guinea-Bissau  29.398491  6.138490  3.448398   \n",
       "6                              Arab World  50.629317  5.582012  2.342654   \n",
       "7  Sub-Saharan Africa (all income levels)  99.999999  6.135956  6.523696   \n",
       "8                               Guatemala  53.018204  1.879260  4.460883   \n",
       "9                                    Cuba  90.794056 -2.102193  6.436206   \n",
       "\n",
       "         AIC        BIC  \n",
       "0  63.461133  65.585284  \n",
       "1  13.150502  15.274653  \n",
       "2   9.783688  11.907839  \n",
       "3  37.127902  39.252053  \n",
       "4  23.463552  25.587703  \n",
       "5 -15.437271 -13.313120  \n",
       "6 -25.995043 -23.870892  \n",
       "7  -3.748940  -1.624789  \n",
       "8  35.177226  37.301377  \n",
       "9  75.958529  78.082680  "
      ]
     },
     "execution_count": 32,
     "metadata": {},
     "output_type": "execute_result"
    }
   ],
   "source": [
    "estFrame.head(10)"
   ]
  },
  {
   "cell_type": "code",
   "execution_count": null,
   "metadata": {
    "collapsed": false
   },
   "outputs": [],
   "source": []
  },
  {
   "cell_type": "code",
   "execution_count": 33,
   "metadata": {
    "collapsed": false
   },
   "outputs": [],
   "source": [
    "best_est = pd.merge(estFrame,pop_frame,how='inner',\n",
    "                   left_on='Country Name',right_on='Country Name',sort=True)"
   ]
  },
  {
   "cell_type": "code",
   "execution_count": 34,
   "metadata": {
    "collapsed": false
   },
   "outputs": [
    {
     "data": {
      "text/html": [
       "<div>\n",
       "<table border=\"1\" class=\"dataframe\">\n",
       "  <thead>\n",
       "    <tr style=\"text-align: right;\">\n",
       "      <th></th>\n",
       "      <th>Country Name</th>\n",
       "      <th>A</th>\n",
       "      <th>lamb</th>\n",
       "      <th>mu</th>\n",
       "      <th>AIC</th>\n",
       "      <th>BIC</th>\n",
       "      <th>Total Population (2015)</th>\n",
       "    </tr>\n",
       "  </thead>\n",
       "  <tbody>\n",
       "    <tr>\n",
       "      <th>0</th>\n",
       "      <td>Afghanistan</td>\n",
       "      <td>5.066791</td>\n",
       "      <td>9.163537</td>\n",
       "      <td>1.351663</td>\n",
       "      <td>-42.037965</td>\n",
       "      <td>-39.913814</td>\n",
       "      <td>32527000</td>\n",
       "    </tr>\n",
       "    <tr>\n",
       "      <th>1</th>\n",
       "      <td>Algeria</td>\n",
       "      <td>100.000000</td>\n",
       "      <td>4.824685</td>\n",
       "      <td>7.469659</td>\n",
       "      <td>51.865712</td>\n",
       "      <td>53.989862</td>\n",
       "      <td>39667000</td>\n",
       "    </tr>\n",
       "    <tr>\n",
       "      <th>2</th>\n",
       "      <td>Angola</td>\n",
       "      <td>64.936576</td>\n",
       "      <td>6.438236</td>\n",
       "      <td>3.994152</td>\n",
       "      <td>10.362041</td>\n",
       "      <td>12.486192</td>\n",
       "      <td>25022000</td>\n",
       "    </tr>\n",
       "    <tr>\n",
       "      <th>3</th>\n",
       "      <td>Arab World</td>\n",
       "      <td>50.629317</td>\n",
       "      <td>5.582012</td>\n",
       "      <td>2.342654</td>\n",
       "      <td>-25.995043</td>\n",
       "      <td>-23.870892</td>\n",
       "      <td>393433000</td>\n",
       "    </tr>\n",
       "    <tr>\n",
       "      <th>4</th>\n",
       "      <td>Argentina</td>\n",
       "      <td>73.128153</td>\n",
       "      <td>-12.766129</td>\n",
       "      <td>2.312381</td>\n",
       "      <td>30.427524</td>\n",
       "      <td>32.551675</td>\n",
       "      <td>43417000</td>\n",
       "    </tr>\n",
       "  </tbody>\n",
       "</table>\n",
       "</div>"
      ],
      "text/plain": [
       "  Country Name           A       lamb        mu        AIC        BIC  \\\n",
       "0  Afghanistan    5.066791   9.163537  1.351663 -42.037965 -39.913814   \n",
       "1      Algeria  100.000000   4.824685  7.469659  51.865712  53.989862   \n",
       "2       Angola   64.936576   6.438236  3.994152  10.362041  12.486192   \n",
       "3   Arab World   50.629317   5.582012  2.342654 -25.995043 -23.870892   \n",
       "4    Argentina   73.128153 -12.766129  2.312381  30.427524  32.551675   \n",
       "\n",
       "   Total Population (2015)  \n",
       "0                 32527000  \n",
       "1                 39667000  \n",
       "2                 25022000  \n",
       "3                393433000  \n",
       "4                 43417000  "
      ]
     },
     "execution_count": 34,
     "metadata": {},
     "output_type": "execute_result"
    }
   ],
   "source": [
    "best_est.head()"
   ]
  },
  {
   "cell_type": "code",
   "execution_count": 35,
   "metadata": {
    "collapsed": true
   },
   "outputs": [],
   "source": [
    "writer = pd.ExcelWriter('Gompertz_Estimates.xlsx')\n",
    "best_est.to_excel(writer)\n",
    "writer.save()"
   ]
  },
  {
   "cell_type": "code",
   "execution_count": 37,
   "metadata": {
    "collapsed": false
   },
   "outputs": [],
   "source": [
    "lmi = pd.ExcelFile('LMI_Countries.xlsx')\n",
    "lmi = lmi.parse('Sheet1')"
   ]
  },
  {
   "cell_type": "code",
   "execution_count": 38,
   "metadata": {
    "collapsed": false
   },
   "outputs": [],
   "source": [
    "lmi_est = pd.merge(best_est,lmi,how='inner',\n",
    "                   left_on='Country Name',right_on='Country Name',sort=True)"
   ]
  },
  {
   "cell_type": "code",
   "execution_count": 39,
   "metadata": {
    "collapsed": false
   },
   "outputs": [
    {
     "data": {
      "text/html": [
       "<div>\n",
       "<table border=\"1\" class=\"dataframe\">\n",
       "  <thead>\n",
       "    <tr style=\"text-align: right;\">\n",
       "      <th></th>\n",
       "      <th>Country Name</th>\n",
       "      <th>A</th>\n",
       "      <th>lamb</th>\n",
       "      <th>mu</th>\n",
       "      <th>AIC</th>\n",
       "      <th>BIC</th>\n",
       "      <th>Total Population (2015)</th>\n",
       "      <th>Code</th>\n",
       "      <th>Group Name</th>\n",
       "      <th>Country Code</th>\n",
       "    </tr>\n",
       "  </thead>\n",
       "  <tbody>\n",
       "    <tr>\n",
       "      <th>0</th>\n",
       "      <td>Afghanistan</td>\n",
       "      <td>5.066791</td>\n",
       "      <td>9.163537</td>\n",
       "      <td>1.351663</td>\n",
       "      <td>-42.037965</td>\n",
       "      <td>-39.913814</td>\n",
       "      <td>32527000</td>\n",
       "      <td>LMY</td>\n",
       "      <td>Low &amp; middle income</td>\n",
       "      <td>AFG</td>\n",
       "    </tr>\n",
       "    <tr>\n",
       "      <th>1</th>\n",
       "      <td>Algeria</td>\n",
       "      <td>100.000000</td>\n",
       "      <td>4.824685</td>\n",
       "      <td>7.469659</td>\n",
       "      <td>51.865712</td>\n",
       "      <td>53.989862</td>\n",
       "      <td>39667000</td>\n",
       "      <td>LMY</td>\n",
       "      <td>Low &amp; middle income</td>\n",
       "      <td>DZA</td>\n",
       "    </tr>\n",
       "    <tr>\n",
       "      <th>2</th>\n",
       "      <td>Angola</td>\n",
       "      <td>64.936576</td>\n",
       "      <td>6.438236</td>\n",
       "      <td>3.994152</td>\n",
       "      <td>10.362041</td>\n",
       "      <td>12.486192</td>\n",
       "      <td>25022000</td>\n",
       "      <td>LMY</td>\n",
       "      <td>Low &amp; middle income</td>\n",
       "      <td>AGO</td>\n",
       "    </tr>\n",
       "    <tr>\n",
       "      <th>3</th>\n",
       "      <td>Armenia</td>\n",
       "      <td>100.000000</td>\n",
       "      <td>9.228023</td>\n",
       "      <td>4.819737</td>\n",
       "      <td>-22.230641</td>\n",
       "      <td>-20.106491</td>\n",
       "      <td>3018000</td>\n",
       "      <td>LMY</td>\n",
       "      <td>Low &amp; middle income</td>\n",
       "      <td>ARM</td>\n",
       "    </tr>\n",
       "    <tr>\n",
       "      <th>4</th>\n",
       "      <td>Azerbaijan</td>\n",
       "      <td>100.000000</td>\n",
       "      <td>10.129907</td>\n",
       "      <td>6.873259</td>\n",
       "      <td>-16.783587</td>\n",
       "      <td>-14.659436</td>\n",
       "      <td>9635000</td>\n",
       "      <td>LMY</td>\n",
       "      <td>Low &amp; middle income</td>\n",
       "      <td>AZE</td>\n",
       "    </tr>\n",
       "  </tbody>\n",
       "</table>\n",
       "</div>"
      ],
      "text/plain": [
       "  Country Name           A       lamb        mu        AIC        BIC  \\\n",
       "0  Afghanistan    5.066791   9.163537  1.351663 -42.037965 -39.913814   \n",
       "1      Algeria  100.000000   4.824685  7.469659  51.865712  53.989862   \n",
       "2       Angola   64.936576   6.438236  3.994152  10.362041  12.486192   \n",
       "3      Armenia  100.000000   9.228023  4.819737 -22.230641 -20.106491   \n",
       "4   Azerbaijan  100.000000  10.129907  6.873259 -16.783587 -14.659436   \n",
       "\n",
       "   Total Population (2015) Code           Group Name Country Code  \n",
       "0                 32527000  LMY  Low & middle income          AFG  \n",
       "1                 39667000  LMY  Low & middle income          DZA  \n",
       "2                 25022000  LMY  Low & middle income          AGO  \n",
       "3                  3018000  LMY  Low & middle income          ARM  \n",
       "4                  9635000  LMY  Low & middle income          AZE  "
      ]
     },
     "execution_count": 39,
     "metadata": {},
     "output_type": "execute_result"
    }
   ],
   "source": [
    "lmi_est.head()"
   ]
  },
  {
   "cell_type": "code",
   "execution_count": 40,
   "metadata": {
    "collapsed": true
   },
   "outputs": [],
   "source": [
    "writer2 = pd.ExcelWriter('LMI_Estimates_Gompertz.xlsx')\n",
    "lmi_est.to_excel(writer2)\n",
    "writer2.save()"
   ]
  },
  {
   "cell_type": "code",
   "execution_count": 41,
   "metadata": {
    "collapsed": false
   },
   "outputs": [],
   "source": [
    "lmi_est['ART Coverage (2014)'] = dframe2[2014]"
   ]
  },
  {
   "cell_type": "code",
   "execution_count": 42,
   "metadata": {
    "collapsed": false
   },
   "outputs": [],
   "source": [
    "cov = DataFrame.from_dict(dframe2[2014]).reset_index(level=0)"
   ]
  },
  {
   "cell_type": "code",
   "execution_count": 43,
   "metadata": {
    "collapsed": true
   },
   "outputs": [],
   "source": [
    "cov_est = pd.merge(lmi_est,cov,how='inner',\n",
    "                   left_on='Country Name',right_on='Country Name',sort=True)"
   ]
  },
  {
   "cell_type": "code",
   "execution_count": 44,
   "metadata": {
    "collapsed": false
   },
   "outputs": [
    {
     "data": {
      "text/html": [
       "<div>\n",
       "<table border=\"1\" class=\"dataframe\">\n",
       "  <thead>\n",
       "    <tr style=\"text-align: right;\">\n",
       "      <th></th>\n",
       "      <th>Country Name</th>\n",
       "      <th>A</th>\n",
       "      <th>lamb</th>\n",
       "      <th>mu</th>\n",
       "      <th>AIC</th>\n",
       "      <th>BIC</th>\n",
       "      <th>Total Population (2015)</th>\n",
       "      <th>Code</th>\n",
       "      <th>Group Name</th>\n",
       "      <th>Country Code</th>\n",
       "      <th>ART Coverage (2014)</th>\n",
       "      <th>2014.0</th>\n",
       "    </tr>\n",
       "  </thead>\n",
       "  <tbody>\n",
       "    <tr>\n",
       "      <th>0</th>\n",
       "      <td>Afghanistan</td>\n",
       "      <td>5.066791</td>\n",
       "      <td>9.163537</td>\n",
       "      <td>1.351663</td>\n",
       "      <td>-42.037965</td>\n",
       "      <td>-39.913814</td>\n",
       "      <td>32527000</td>\n",
       "      <td>LMY</td>\n",
       "      <td>Low &amp; middle income</td>\n",
       "      <td>AFG</td>\n",
       "      <td>NaN</td>\n",
       "      <td>5.00</td>\n",
       "    </tr>\n",
       "    <tr>\n",
       "      <th>1</th>\n",
       "      <td>Algeria</td>\n",
       "      <td>100.000000</td>\n",
       "      <td>4.824685</td>\n",
       "      <td>7.469659</td>\n",
       "      <td>51.865712</td>\n",
       "      <td>53.989862</td>\n",
       "      <td>39667000</td>\n",
       "      <td>LMY</td>\n",
       "      <td>Low &amp; middle income</td>\n",
       "      <td>DZA</td>\n",
       "      <td>NaN</td>\n",
       "      <td>71.25</td>\n",
       "    </tr>\n",
       "    <tr>\n",
       "      <th>2</th>\n",
       "      <td>Angola</td>\n",
       "      <td>64.936576</td>\n",
       "      <td>6.438236</td>\n",
       "      <td>3.994152</td>\n",
       "      <td>10.362041</td>\n",
       "      <td>12.486192</td>\n",
       "      <td>25022000</td>\n",
       "      <td>LMY</td>\n",
       "      <td>Low &amp; middle income</td>\n",
       "      <td>AGO</td>\n",
       "      <td>NaN</td>\n",
       "      <td>31.25</td>\n",
       "    </tr>\n",
       "    <tr>\n",
       "      <th>3</th>\n",
       "      <td>Armenia</td>\n",
       "      <td>100.000000</td>\n",
       "      <td>9.228023</td>\n",
       "      <td>4.819737</td>\n",
       "      <td>-22.230641</td>\n",
       "      <td>-20.106491</td>\n",
       "      <td>3018000</td>\n",
       "      <td>LMY</td>\n",
       "      <td>Low &amp; middle income</td>\n",
       "      <td>ARM</td>\n",
       "      <td>NaN</td>\n",
       "      <td>23.75</td>\n",
       "    </tr>\n",
       "    <tr>\n",
       "      <th>4</th>\n",
       "      <td>Azerbaijan</td>\n",
       "      <td>100.000000</td>\n",
       "      <td>10.129907</td>\n",
       "      <td>6.873259</td>\n",
       "      <td>-16.783587</td>\n",
       "      <td>-14.659436</td>\n",
       "      <td>9635000</td>\n",
       "      <td>LMY</td>\n",
       "      <td>Low &amp; middle income</td>\n",
       "      <td>AZE</td>\n",
       "      <td>NaN</td>\n",
       "      <td>27.50</td>\n",
       "    </tr>\n",
       "  </tbody>\n",
       "</table>\n",
       "</div>"
      ],
      "text/plain": [
       "  Country Name           A       lamb        mu        AIC        BIC  \\\n",
       "0  Afghanistan    5.066791   9.163537  1.351663 -42.037965 -39.913814   \n",
       "1      Algeria  100.000000   4.824685  7.469659  51.865712  53.989862   \n",
       "2       Angola   64.936576   6.438236  3.994152  10.362041  12.486192   \n",
       "3      Armenia  100.000000   9.228023  4.819737 -22.230641 -20.106491   \n",
       "4   Azerbaijan  100.000000  10.129907  6.873259 -16.783587 -14.659436   \n",
       "\n",
       "   Total Population (2015) Code           Group Name Country Code  \\\n",
       "0                 32527000  LMY  Low & middle income          AFG   \n",
       "1                 39667000  LMY  Low & middle income          DZA   \n",
       "2                 25022000  LMY  Low & middle income          AGO   \n",
       "3                  3018000  LMY  Low & middle income          ARM   \n",
       "4                  9635000  LMY  Low & middle income          AZE   \n",
       "\n",
       "   ART Coverage (2014)  2014.0  \n",
       "0                  NaN    5.00  \n",
       "1                  NaN   71.25  \n",
       "2                  NaN   31.25  \n",
       "3                  NaN   23.75  \n",
       "4                  NaN   27.50  "
      ]
     },
     "execution_count": 44,
     "metadata": {},
     "output_type": "execute_result"
    }
   ],
   "source": [
    "cov_est.head()"
   ]
  },
  {
   "cell_type": "code",
   "execution_count": 45,
   "metadata": {
    "collapsed": true
   },
   "outputs": [],
   "source": [
    "cov_est.rename(columns={2014:'ART Coverage (2014)'},inplace=True)"
   ]
  },
  {
   "cell_type": "code",
   "execution_count": 47,
   "metadata": {
    "collapsed": true
   },
   "outputs": [],
   "source": [
    "writer3 = pd.ExcelWriter('Coverage and Estimates - Gompertz.xlsx')\n",
    "cov_est.to_excel(writer3)\n",
    "writer3.save()"
   ]
  },
  {
   "cell_type": "code",
   "execution_count": null,
   "metadata": {
    "collapsed": true
   },
   "outputs": [],
   "source": []
  }
 ],
 "metadata": {
  "kernelspec": {
   "display_name": "Python [default]",
   "language": "python",
   "name": "python3"
  },
  "language_info": {
   "codemirror_mode": {
    "name": "ipython",
    "version": 3
   },
   "file_extension": ".py",
   "mimetype": "text/x-python",
   "name": "python",
   "nbconvert_exporter": "python",
   "pygments_lexer": "ipython3",
   "version": "3.5.1"
  }
 },
 "nbformat": 4,
 "nbformat_minor": 0
}

{
 "cells": [
  {
   "cell_type": "code",
   "execution_count": 1,
   "metadata": {
    "collapsed": true
   },
   "outputs": [],
   "source": [
    "import pandas as pd\n",
    "import numpy as np\n",
    "from pandas import Series,DataFrame"
   ]
  },
  {
   "cell_type": "code",
   "execution_count": 2,
   "metadata": {
    "collapsed": true
   },
   "outputs": [],
   "source": [
    "gomp = pd.ExcelFile('Coverage and Estimates - Gompertz.xlsx').parse('Sheet1')\n",
    "log = pd.ExcelFile('Coverage and Estimates - Logistic.xlsx').parse('Sheet1')"
   ]
  },
  {
   "cell_type": "code",
   "execution_count": 3,
   "metadata": {
    "collapsed": false
   },
   "outputs": [],
   "source": [
    "gomp.drop(['Total Population (2015)','Code','Group Name','Country Code'],axis=1,inplace=True)\n",
    "log.drop(['Total Population (2015)','Code','Group Name','Country Code'],axis=1,inplace=True)"
   ]
  },
  {
   "cell_type": "code",
   "execution_count": 4,
   "metadata": {
    "collapsed": false
   },
   "outputs": [],
   "source": [
    "gomp['Model']='Gompertz'\n",
    "log['Model']='Logistic'"
   ]
  },
  {
   "cell_type": "code",
   "execution_count": 5,
   "metadata": {
    "collapsed": false
   },
   "outputs": [],
   "source": [
    "dframe = pd.concat([gomp,log],ignore_index=True)"
   ]
  },
  {
   "cell_type": "code",
   "execution_count": 6,
   "metadata": {
    "collapsed": false
   },
   "outputs": [],
   "source": [
    "dframe.drop('ART Coverage (2014).1',axis=1,inplace=True)"
   ]
  },
  {
   "cell_type": "code",
   "execution_count": 9,
   "metadata": {
    "collapsed": false
   },
   "outputs": [],
   "source": [
    "dframe2=dframe.set_index(['Country Name','Model'])"
   ]
  },
  {
   "cell_type": "code",
   "execution_count": 14,
   "metadata": {
    "collapsed": false
   },
   "outputs": [],
   "source": [
    "dframe2 = dframe2.sort_index()"
   ]
  },
  {
   "cell_type": "code",
   "execution_count": 15,
   "metadata": {
    "collapsed": true
   },
   "outputs": [],
   "source": [
    "writer=pd.ExcelWriter('MultiIndex2.xlsx')\n",
    "dframe2.to_excel(writer)\n",
    "writer.save()"
   ]
  },
  {
   "cell_type": "code",
   "execution_count": 16,
   "metadata": {
    "collapsed": true
   },
   "outputs": [],
   "source": [
    "subsahara=['Angola','Benin','Botswana','Burkina Faso','Burundi','Cameroon',\n",
    "           'Cabo Verde','Central African Republic','Chad','Comoros','Cote d\\'Ivoire',\n",
    "          'Eritrea','Gabon','Gambia','Ghana','Guinea','Guinea-Bissau','Kenya',\n",
    "          'Lesotho','Liberia','Madagascar','Malawi','Mali','Mauritania','Mauritius',\n",
    "          'Mozambique','Namibia','Niger','Nigeria','Rwanda','Sao Tome and Principe',\n",
    "          'Senegal','Seychelles','Sierra Leone','Somalia','South Africa',\n",
    "          'South Sudan','Sudan','Swaziland','Tanzania','Togo','Uganda','Zambia',\n",
    "          'Zimbabwe','Equatorial Guinea','Ethiopia','Congo, Rep.','Congo, Dem. Rep.']"
   ]
  },
  {
   "cell_type": "code",
   "execution_count": 23,
   "metadata": {
    "collapsed": false
   },
   "outputs": [],
   "source": [
    "dframe3=dframe2.ix('Country Name')[subsahara]"
   ]
  },
  {
   "cell_type": "code",
   "execution_count": 24,
   "metadata": {
    "collapsed": false
   },
   "outputs": [
    {
     "data": {
      "text/html": [
       "<div>\n",
       "<table border=\"1\" class=\"dataframe\">\n",
       "  <thead>\n",
       "    <tr style=\"text-align: right;\">\n",
       "      <th></th>\n",
       "      <th></th>\n",
       "      <th>A</th>\n",
       "      <th>AIC</th>\n",
       "      <th>ART Coverage (2014)</th>\n",
       "      <th>BIC</th>\n",
       "      <th>lamb</th>\n",
       "      <th>mu</th>\n",
       "    </tr>\n",
       "    <tr>\n",
       "      <th>Country Name</th>\n",
       "      <th>Model</th>\n",
       "      <th></th>\n",
       "      <th></th>\n",
       "      <th></th>\n",
       "      <th></th>\n",
       "      <th></th>\n",
       "      <th></th>\n",
       "    </tr>\n",
       "  </thead>\n",
       "  <tbody>\n",
       "    <tr>\n",
       "      <th rowspan=\"2\" valign=\"top\">Angola</th>\n",
       "      <th>Gompertz</th>\n",
       "      <td>64.936576</td>\n",
       "      <td>10.362041</td>\n",
       "      <td>31.25</td>\n",
       "      <td>12.486192</td>\n",
       "      <td>6.438236</td>\n",
       "      <td>3.994152</td>\n",
       "    </tr>\n",
       "    <tr>\n",
       "      <th>Logistic</th>\n",
       "      <td>40.612634</td>\n",
       "      <td>17.439057</td>\n",
       "      <td>NaN</td>\n",
       "      <td>19.563207</td>\n",
       "      <td>6.708837</td>\n",
       "      <td>4.235012</td>\n",
       "    </tr>\n",
       "    <tr>\n",
       "      <th rowspan=\"2\" valign=\"top\">Benin</th>\n",
       "      <th>Gompertz</th>\n",
       "      <td>25.086016</td>\n",
       "      <td>107.713470</td>\n",
       "      <td>46.25</td>\n",
       "      <td>109.837621</td>\n",
       "      <td>-0.697400</td>\n",
       "      <td>-24.523706</td>\n",
       "    </tr>\n",
       "    <tr>\n",
       "      <th>Logistic</th>\n",
       "      <td>43.404478</td>\n",
       "      <td>41.369450</td>\n",
       "      <td>NaN</td>\n",
       "      <td>43.493600</td>\n",
       "      <td>6.869194</td>\n",
       "      <td>15.593950</td>\n",
       "    </tr>\n",
       "    <tr>\n",
       "      <th>Botswana</th>\n",
       "      <th>Gompertz</th>\n",
       "      <td>96.793507</td>\n",
       "      <td>14.642665</td>\n",
       "      <td>77.50</td>\n",
       "      <td>16.766816</td>\n",
       "      <td>2.609430</td>\n",
       "      <td>7.646575</td>\n",
       "    </tr>\n",
       "  </tbody>\n",
       "</table>\n",
       "</div>"
      ],
      "text/plain": [
       "                               A         AIC  ART Coverage (2014)         BIC  \\\n",
       "Country Name Model                                                              \n",
       "Angola       Gompertz  64.936576   10.362041                31.25   12.486192   \n",
       "             Logistic  40.612634   17.439057                  NaN   19.563207   \n",
       "Benin        Gompertz  25.086016  107.713470                46.25  109.837621   \n",
       "             Logistic  43.404478   41.369450                  NaN   43.493600   \n",
       "Botswana     Gompertz  96.793507   14.642665                77.50   16.766816   \n",
       "\n",
       "                           lamb         mu  \n",
       "Country Name Model                          \n",
       "Angola       Gompertz  6.438236   3.994152  \n",
       "             Logistic  6.708837   4.235012  \n",
       "Benin        Gompertz -0.697400 -24.523706  \n",
       "             Logistic  6.869194  15.593950  \n",
       "Botswana     Gompertz  2.609430   7.646575  "
      ]
     },
     "execution_count": 24,
     "metadata": {},
     "output_type": "execute_result"
    }
   ],
   "source": [
    "dframe3.head()"
   ]
  },
  {
   "cell_type": "code",
   "execution_count": 25,
   "metadata": {
    "collapsed": true
   },
   "outputs": [],
   "source": [
    "writer2=pd.ExcelWriter('SSA_MultiIndex.xlsx')\n",
    "dframe3.to_excel(writer2)\n",
    "writer2.save()"
   ]
  },
  {
   "cell_type": "code",
   "execution_count": null,
   "metadata": {
    "collapsed": true
   },
   "outputs": [],
   "source": []
  }
 ],
 "metadata": {
  "kernelspec": {
   "display_name": "Python 3",
   "language": "python",
   "name": "python3"
  },
  "language_info": {
   "codemirror_mode": {
    "name": "ipython",
    "version": 3
   },
   "file_extension": ".py",
   "mimetype": "text/x-python",
   "name": "python",
   "nbconvert_exporter": "python",
   "pygments_lexer": "ipython3",
   "version": "3.5.1"
  }
 },
 "nbformat": 4,
 "nbformat_minor": 0
}

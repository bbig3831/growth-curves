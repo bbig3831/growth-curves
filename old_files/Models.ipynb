{
 "cells": [
  {
   "cell_type": "code",
   "execution_count": 1,
   "metadata": {
    "collapsed": true
   },
   "outputs": [],
   "source": [
    "### Imports\n",
    "import dill\n",
    "import matplotlib.pyplot as plt\n",
    "from lmfit import Model\n",
    "from numpy import exp"
   ]
  },
  {
   "cell_type": "code",
   "execution_count": 2,
   "metadata": {
    "collapsed": false
   },
   "outputs": [],
   "source": [
    "### Load dictionaries\n",
    "gomp = dill.load(open('gompertz_models.p','rb'))"
   ]
  },
  {
   "cell_type": "code",
   "execution_count": 4,
   "metadata": {
    "collapsed": false
   },
   "outputs": [
    {
     "data": {
      "text/plain": [
       "{'In': ['',\n",
       "  '### Imports\\nimport dill\\nimport matplotlib.pyplot as plt\\nfrom lmfit import Model\\nfrom numpy import exp',\n",
       "  \"### Load dictionaries\\ngomp = dill.load(open('gompertz_models.p','rb'))\",\n",
       "  \"gomp['Vietnam'].best_values\",\n",
       "  'gomp'],\n",
       " 'Model': lmfit.model.Model,\n",
       " 'Out': {},\n",
       " '_': '',\n",
       " '__': '',\n",
       " '___': '',\n",
       " '__builtin__': <module 'builtins' (built-in)>,\n",
       " '__builtins__': <module 'builtins' (built-in)>,\n",
       " '__doc__': 'Automatically created module for IPython interactive environment',\n",
       " '__loader__': None,\n",
       " '__name__': '__main__',\n",
       " '__package__': None,\n",
       " '__spec__': None,\n",
       " '_dh': ['C:\\\\Users\\\\Ben\\\\Anaconda3\\\\ART Research'],\n",
       " '_i': \"gomp['Vietnam'].best_values\",\n",
       " '_i1': '### Imports\\nimport dill\\nimport matplotlib.pyplot as plt\\nfrom lmfit import Model\\nfrom numpy import exp',\n",
       " '_i2': \"### Load dictionaries\\ngomp = dill.load(open('gompertz_models.p','rb'))\",\n",
       " '_i3': \"gomp['Vietnam'].best_values\",\n",
       " '_i4': 'gomp',\n",
       " '_ih': ['',\n",
       "  '### Imports\\nimport dill\\nimport matplotlib.pyplot as plt\\nfrom lmfit import Model\\nfrom numpy import exp',\n",
       "  \"### Load dictionaries\\ngomp = dill.load(open('gompertz_models.p','rb'))\",\n",
       "  \"gomp['Vietnam'].best_values\",\n",
       "  'gomp'],\n",
       " '_ii': \"### Load dictionaries\\ngomp = dill.load(open('gompertz_models.p','rb'))\",\n",
       " '_iii': '### Imports\\nimport dill\\nimport matplotlib.pyplot as plt\\nfrom lmfit import Model\\nfrom numpy import exp',\n",
       " '_oh': {},\n",
       " '_sh': <module 'IPython.core.shadowns' from 'C:\\\\Users\\\\Ben\\\\Anaconda3\\\\lib\\\\site-packages\\\\IPython\\\\core\\\\shadowns.py'>,\n",
       " 'dill': <module 'dill' from 'C:\\\\Users\\\\Ben\\\\Anaconda3\\\\lib\\\\site-packages\\\\dill\\\\__init__.py'>,\n",
       " 'exit': <IPython.core.autocall.ZMQExitAutocall at 0x439a160>,\n",
       " 'exp': <ufunc 'exp'>,\n",
       " 'get_ipython': <bound method InteractiveShell.get_ipython of <ipykernel.zmqshell.ZMQInteractiveShell object at 0x0000000004315048>>,\n",
       " 'gomp': {...},\n",
       " 'plt': <module 'matplotlib.pyplot' from 'C:\\\\Users\\\\Ben\\\\Anaconda3\\\\lib\\\\site-packages\\\\matplotlib\\\\pyplot.py'>,\n",
       " 'quit': <IPython.core.autocall.ZMQExitAutocall at 0x439a160>}"
      ]
     },
     "execution_count": 4,
     "metadata": {},
     "output_type": "execute_result"
    }
   ],
   "source": []
  },
  {
   "cell_type": "code",
   "execution_count": null,
   "metadata": {
    "collapsed": true
   },
   "outputs": [],
   "source": []
  }
 ],
 "metadata": {
  "kernelspec": {
   "display_name": "Python 3",
   "language": "python",
   "name": "python3"
  },
  "language_info": {
   "codemirror_mode": {
    "name": "ipython",
    "version": 3
   },
   "file_extension": ".py",
   "mimetype": "text/x-python",
   "name": "python",
   "nbconvert_exporter": "python",
   "pygments_lexer": "ipython3",
   "version": "3.5.1"
  }
 },
 "nbformat": 4,
 "nbformat_minor": 0
}

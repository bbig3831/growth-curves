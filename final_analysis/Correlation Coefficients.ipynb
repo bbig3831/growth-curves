{
 "cells": [
  {
   "cell_type": "code",
   "execution_count": 1,
   "metadata": {
    "collapsed": true
   },
   "outputs": [],
   "source": [
    "import pandas as pd\n",
    "import numpy as np"
   ]
  },
  {
   "cell_type": "code",
   "execution_count": 2,
   "metadata": {
    "collapsed": true
   },
   "outputs": [],
   "source": [
    "lambda_ranks=pd.read_excel('C:/Users/Ben/Documents/Harvard Files/Research/ART Paper/Final_Output_v2.xlsx',\n",
    "                      sheetname='Lambda')\n",
    "mu_ranks=pd.read_excel('C:/Users/Ben/Documents/Harvard Files/Research/ART Paper/Final_Output_v2.xlsx',\n",
    "                      sheetname='Mu')"
   ]
  },
  {
   "cell_type": "code",
   "execution_count": 4,
   "metadata": {},
   "outputs": [
    {
     "data": {
      "text/html": [
       "<div>\n",
       "<style>\n",
       "    .dataframe thead tr:only-child th {\n",
       "        text-align: right;\n",
       "    }\n",
       "\n",
       "    .dataframe thead th {\n",
       "        text-align: left;\n",
       "    }\n",
       "\n",
       "    .dataframe tbody tr th {\n",
       "        vertical-align: top;\n",
       "    }\n",
       "</style>\n",
       "<table border=\"1\" class=\"dataframe\">\n",
       "  <thead>\n",
       "    <tr style=\"text-align: right;\">\n",
       "      <th></th>\n",
       "      <th>Rank - Observed</th>\n",
       "      <th>Rank - Gompertz</th>\n",
       "      <th>Rank - Logistic</th>\n",
       "    </tr>\n",
       "  </thead>\n",
       "  <tbody>\n",
       "    <tr>\n",
       "      <th>Rank - Observed</th>\n",
       "      <td>1.000000</td>\n",
       "      <td>0.527351</td>\n",
       "      <td>0.431380</td>\n",
       "    </tr>\n",
       "    <tr>\n",
       "      <th>Rank - Gompertz</th>\n",
       "      <td>0.527351</td>\n",
       "      <td>1.000000</td>\n",
       "      <td>0.956883</td>\n",
       "    </tr>\n",
       "    <tr>\n",
       "      <th>Rank - Logistic</th>\n",
       "      <td>0.431380</td>\n",
       "      <td>0.956883</td>\n",
       "      <td>1.000000</td>\n",
       "    </tr>\n",
       "  </tbody>\n",
       "</table>\n",
       "</div>"
      ],
      "text/plain": [
       "                 Rank - Observed  Rank - Gompertz  Rank - Logistic\n",
       "Rank - Observed         1.000000         0.527351         0.431380\n",
       "Rank - Gompertz         0.527351         1.000000         0.956883\n",
       "Rank - Logistic         0.431380         0.956883         1.000000"
      ]
     },
     "execution_count": 4,
     "metadata": {},
     "output_type": "execute_result"
    }
   ],
   "source": [
    "lambda_ranks[['Rank - Observed','Rank - Gompertz','Rank - Logistic']].corr()"
   ]
  },
  {
   "cell_type": "code",
   "execution_count": 5,
   "metadata": {},
   "outputs": [
    {
     "data": {
      "text/html": [
       "<div>\n",
       "<style>\n",
       "    .dataframe thead tr:only-child th {\n",
       "        text-align: right;\n",
       "    }\n",
       "\n",
       "    .dataframe thead th {\n",
       "        text-align: left;\n",
       "    }\n",
       "\n",
       "    .dataframe tbody tr th {\n",
       "        vertical-align: top;\n",
       "    }\n",
       "</style>\n",
       "<table border=\"1\" class=\"dataframe\">\n",
       "  <thead>\n",
       "    <tr style=\"text-align: right;\">\n",
       "      <th></th>\n",
       "      <th>delay_obs</th>\n",
       "      <th>lamb_gomp</th>\n",
       "      <th>lamb_log</th>\n",
       "    </tr>\n",
       "  </thead>\n",
       "  <tbody>\n",
       "    <tr>\n",
       "      <th>delay_obs</th>\n",
       "      <td>1.000000</td>\n",
       "      <td>0.623917</td>\n",
       "      <td>0.580675</td>\n",
       "    </tr>\n",
       "    <tr>\n",
       "      <th>lamb_gomp</th>\n",
       "      <td>0.623917</td>\n",
       "      <td>1.000000</td>\n",
       "      <td>0.987352</td>\n",
       "    </tr>\n",
       "    <tr>\n",
       "      <th>lamb_log</th>\n",
       "      <td>0.580675</td>\n",
       "      <td>0.987352</td>\n",
       "      <td>1.000000</td>\n",
       "    </tr>\n",
       "  </tbody>\n",
       "</table>\n",
       "</div>"
      ],
      "text/plain": [
       "           delay_obs  lamb_gomp  lamb_log\n",
       "delay_obs   1.000000   0.623917  0.580675\n",
       "lamb_gomp   0.623917   1.000000  0.987352\n",
       "lamb_log    0.580675   0.987352  1.000000"
      ]
     },
     "execution_count": 5,
     "metadata": {},
     "output_type": "execute_result"
    }
   ],
   "source": [
    "lambda_ranks[['delay_obs','lamb_gomp','lamb_log']].corr()"
   ]
  },
  {
   "cell_type": "code",
   "execution_count": 8,
   "metadata": {},
   "outputs": [
    {
     "data": {
      "text/html": [
       "<div>\n",
       "<style>\n",
       "    .dataframe thead tr:only-child th {\n",
       "        text-align: right;\n",
       "    }\n",
       "\n",
       "    .dataframe thead th {\n",
       "        text-align: left;\n",
       "    }\n",
       "\n",
       "    .dataframe tbody tr th {\n",
       "        vertical-align: top;\n",
       "    }\n",
       "</style>\n",
       "<table border=\"1\" class=\"dataframe\">\n",
       "  <thead>\n",
       "    <tr style=\"text-align: right;\">\n",
       "      <th></th>\n",
       "      <th>Rank - Avg Change</th>\n",
       "      <th>Rank - Gompertz</th>\n",
       "      <th>Rank - Log</th>\n",
       "    </tr>\n",
       "  </thead>\n",
       "  <tbody>\n",
       "    <tr>\n",
       "      <th>Rank - Avg Change</th>\n",
       "      <td>1.000000</td>\n",
       "      <td>0.898916</td>\n",
       "      <td>0.658638</td>\n",
       "    </tr>\n",
       "    <tr>\n",
       "      <th>Rank - Gompertz</th>\n",
       "      <td>0.898916</td>\n",
       "      <td>1.000000</td>\n",
       "      <td>0.848381</td>\n",
       "    </tr>\n",
       "    <tr>\n",
       "      <th>Rank - Log</th>\n",
       "      <td>0.658638</td>\n",
       "      <td>0.848381</td>\n",
       "      <td>1.000000</td>\n",
       "    </tr>\n",
       "  </tbody>\n",
       "</table>\n",
       "</div>"
      ],
      "text/plain": [
       "                   Rank - Avg Change  Rank - Gompertz  Rank - Log\n",
       "Rank - Avg Change           1.000000         0.898916    0.658638\n",
       "Rank - Gompertz             0.898916         1.000000    0.848381\n",
       "Rank - Log                  0.658638         0.848381    1.000000"
      ]
     },
     "execution_count": 8,
     "metadata": {},
     "output_type": "execute_result"
    }
   ],
   "source": [
    "mu_ranks[['Rank - Avg Change','Rank - Gompertz','Rank - Log']].corr()"
   ]
  },
  {
   "cell_type": "code",
   "execution_count": 9,
   "metadata": {},
   "outputs": [
    {
     "data": {
      "text/html": [
       "<div>\n",
       "<style>\n",
       "    .dataframe thead tr:only-child th {\n",
       "        text-align: right;\n",
       "    }\n",
       "\n",
       "    .dataframe thead th {\n",
       "        text-align: left;\n",
       "    }\n",
       "\n",
       "    .dataframe tbody tr th {\n",
       "        vertical-align: top;\n",
       "    }\n",
       "</style>\n",
       "<table border=\"1\" class=\"dataframe\">\n",
       "  <thead>\n",
       "    <tr style=\"text-align: right;\">\n",
       "      <th></th>\n",
       "      <th>avg_change</th>\n",
       "      <th>mu_gomp</th>\n",
       "      <th>mu_log</th>\n",
       "    </tr>\n",
       "  </thead>\n",
       "  <tbody>\n",
       "    <tr>\n",
       "      <th>avg_change</th>\n",
       "      <td>1.000000</td>\n",
       "      <td>0.897412</td>\n",
       "      <td>0.627453</td>\n",
       "    </tr>\n",
       "    <tr>\n",
       "      <th>mu_gomp</th>\n",
       "      <td>0.897412</td>\n",
       "      <td>1.000000</td>\n",
       "      <td>0.841316</td>\n",
       "    </tr>\n",
       "    <tr>\n",
       "      <th>mu_log</th>\n",
       "      <td>0.627453</td>\n",
       "      <td>0.841316</td>\n",
       "      <td>1.000000</td>\n",
       "    </tr>\n",
       "  </tbody>\n",
       "</table>\n",
       "</div>"
      ],
      "text/plain": [
       "            avg_change   mu_gomp    mu_log\n",
       "avg_change    1.000000  0.897412  0.627453\n",
       "mu_gomp       0.897412  1.000000  0.841316\n",
       "mu_log        0.627453  0.841316  1.000000"
      ]
     },
     "execution_count": 9,
     "metadata": {},
     "output_type": "execute_result"
    }
   ],
   "source": [
    "mu_ranks[['avg_change','mu_gomp','mu_log']].corr()"
   ]
  },
  {
   "cell_type": "code",
   "execution_count": null,
   "metadata": {
    "collapsed": true
   },
   "outputs": [],
   "source": []
  }
 ],
 "metadata": {
  "kernelspec": {
   "display_name": "Python [default]",
   "language": "python",
   "name": "python3"
  },
  "language_info": {
   "codemirror_mode": {
    "name": "ipython",
    "version": 3
   },
   "file_extension": ".py",
   "mimetype": "text/x-python",
   "name": "python",
   "nbconvert_exporter": "python",
   "pygments_lexer": "ipython3",
   "version": "3.5.4"
  }
 },
 "nbformat": 4,
 "nbformat_minor": 2
}

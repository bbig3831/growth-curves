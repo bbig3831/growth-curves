{
 "cells": [
  {
   "cell_type": "code",
   "execution_count": 1,
   "metadata": {
    "collapsed": false
   },
   "outputs": [],
   "source": [
    "import numpy as np\n",
    "import matplotlib.pyplot as plt\n",
    "import seaborn as sns\n",
    "import pandas as pd\n",
    "from pandas import Series,DataFrame\n",
    "from lmfit import Model\n",
    "from numpy import exp"
   ]
  },
  {
   "cell_type": "code",
   "execution_count": 2,
   "metadata": {
    "collapsed": true
   },
   "outputs": [],
   "source": [
    "def logistic(t,A,mu,lamb):\n",
    "    y = A/(1+exp((4*mu/A)*(lamb-t)+2))\n",
    "    return y"
   ]
  },
  {
   "cell_type": "code",
   "execution_count": 3,
   "metadata": {
    "collapsed": true
   },
   "outputs": [],
   "source": [
    "logmod = Model(logistic)"
   ]
  },
  {
   "cell_type": "code",
   "execution_count": 4,
   "metadata": {
    "collapsed": true
   },
   "outputs": [],
   "source": [
    "data = pd.ExcelFile('ART_coverage2.xlsx')\n",
    "dframe = data.parse('Data')\n",
    "dframe2 = dframe.pivot_table(index='Country Name',columns='Year',values='Value')\n",
    "dframe2 = dframe2.dropna(axis=0,how='all')\n",
    "dframe2 = dframe2.dropna(axis=1,how='all')\n",
    "diff = dframe2.diff(axis=1)\n",
    "diff.fillna(0,inplace=True)"
   ]
  },
  {
   "cell_type": "code",
   "execution_count": 5,
   "metadata": {
    "collapsed": true
   },
   "outputs": [],
   "source": [
    "t = np.arange(0,15)\n",
    "y = np.asarray(dframe2.ix['Argentina'])"
   ]
  },
  {
   "cell_type": "code",
   "execution_count": 6,
   "metadata": {
    "collapsed": true
   },
   "outputs": [],
   "source": [
    "a = 100\n",
    "mu = diff.ix['Argentina'].max()\n",
    "lamb = 0"
   ]
  },
  {
   "cell_type": "code",
   "execution_count": 7,
   "metadata": {
    "collapsed": true
   },
   "outputs": [],
   "source": [
    "params = logmod.make_params(A=a,mu=mu,lamb=lamb)"
   ]
  },
  {
   "cell_type": "code",
   "execution_count": 8,
   "metadata": {
    "collapsed": false
   },
   "outputs": [],
   "source": [
    "logmod.set_param_hint('A',value=dframe2.ix['Argentina'].max(),min=0,max=100)\n",
    "logmod.set_param_hint('mu',value=diff.ix['Argentina'].max())\n",
    "logmod.set_param_hint('lamb',value=0)"
   ]
  },
  {
   "cell_type": "code",
   "execution_count": 9,
   "metadata": {
    "collapsed": false
   },
   "outputs": [
    {
     "name": "stdout",
     "output_type": "stream",
     "text": [
      " - Adding parameter for hint \"A\"\n",
      " - Adding parameter for hint \"mu\"\n",
      " - Adding parameter for hint \"lamb\"\n",
      " - Adding parameter \"A\"\n",
      " - Adding parameter \"mu\"\n",
      " - Adding parameter \"lamb\"\n"
     ]
    }
   ],
   "source": [
    "result = logmod.fit(y,t=t)"
   ]
  },
  {
   "cell_type": "code",
   "execution_count": 10,
   "metadata": {
    "collapsed": false
   },
   "outputs": [
    {
     "name": "stdout",
     "output_type": "stream",
     "text": [
      "[[Model]]\n",
      "    Model(logistic)\n",
      "[[Fit Statistics]]\n",
      "    # function evals   = 58\n",
      "    # data points      = 15\n",
      "    # variables        = 3\n",
      "    chi-square         = 62.771\n",
      "    reduced chi-square = 5.231\n",
      "[[Variables]]\n",
      "    A:      67.2156532 +/- 10.64317 (15.83%) (init= 58.75)\n",
      "    mu:     2.16076880 +/- 0.375300 (17.37%) (init= 7.5)\n",
      "    lamb:  -13.7567870 +/- 2.977166 (21.64%) (init= 0)\n",
      "[[Correlations]] (unreported correlations are <  0.100)\n",
      "    C(mu, lamb)                  =  0.992 \n",
      "    C(A, mu)                     = -0.888 \n",
      "    C(A, lamb)                   = -0.847 \n",
      "\n"
     ]
    }
   ],
   "source": [
    "print(result.fit_report())"
   ]
  },
  {
   "cell_type": "code",
   "execution_count": 11,
   "metadata": {
    "collapsed": false
   },
   "outputs": [],
   "source": [
    "plt.plot(t, y,         'bo')\n",
    "plt.plot(t, result.init_fit, 'k--')\n",
    "plt.plot(t, result.best_fit, 'r-')\n",
    "plt.show()"
   ]
  },
  {
   "cell_type": "code",
   "execution_count": 12,
   "metadata": {
    "collapsed": false
   },
   "outputs": [
    {
     "data": {
      "text/plain": [
       "'Afghanistan'"
      ]
     },
     "execution_count": 12,
     "metadata": {},
     "output_type": "execute_result"
    }
   ],
   "source": [
    "dframe2.index[0]"
   ]
  },
  {
   "cell_type": "code",
   "execution_count": 13,
   "metadata": {
    "collapsed": false
   },
   "outputs": [
    {
     "data": {
      "text/plain": [
       "116"
      ]
     },
     "execution_count": 13,
     "metadata": {},
     "output_type": "execute_result"
    }
   ],
   "source": [
    "len(dframe2)"
   ]
  },
  {
   "cell_type": "code",
   "execution_count": 14,
   "metadata": {
    "collapsed": true
   },
   "outputs": [],
   "source": [
    "### Initialize dictionary\n",
    "log_dict ={}"
   ]
  },
  {
   "cell_type": "code",
   "execution_count": 16,
   "metadata": {
    "collapsed": false
   },
   "outputs": [],
   "source": [
    "### Iterate model build for each country\n",
    "for i in range(0,len(dframe2)):\n",
    "    ### Select country\n",
    "    country = dframe2.index[i]\n",
    "    ### Select coverage values\n",
    "    y = np.asarray(dframe2.ix[country])\n",
    "    ### Set parameter hints\n",
    "    logmod.set_param_hint('A',value=dframe2.ix[country].max(),min=0,max=100)\n",
    "    logmod.set_param_hint('mu',value=diff.ix[country].max())\n",
    "    logmod.set_param_hint('lamb',value=0)\n",
    "    ### Fit model\n",
    "    result = logmod.fit(y,t=t,verbose=False)\n",
    "    ### Store fitted model in dictionary\n",
    "    log_dict[country] = result"
   ]
  },
  {
   "cell_type": "code",
   "execution_count": 19,
   "metadata": {
    "collapsed": false
   },
   "outputs": [],
   "source": [
    "country='Burkina Faso'\n",
    "y=dframe2.ix[country]\n",
    "plt.plot(t, y,         'bo')\n",
    "plt.plot(t, log_dict[country].best_fit, 'r-')\n",
    "plt.ylabel('ART coverage (%)')\n",
    "plt.xlabel('Time (in years since 2000)')\n",
    "plt.show()"
   ]
  },
  {
   "cell_type": "code",
   "execution_count": 25,
   "metadata": {
    "collapsed": false
   },
   "outputs": [
    {
     "data": {
      "text/plain": [
       "<matplotlib.axes._subplots.AxesSubplot at 0xbdd12e8>"
      ]
     },
     "execution_count": 25,
     "metadata": {},
     "output_type": "execute_result"
    },
    {
     "data": {
      "image/png": "[encoded data removed]",
      "text/plain": [
       "<matplotlib.figure.Figure at 0xb320a90>"
      ]
     },
     "metadata": {},
     "output_type": "display_data"
    }
   ],
   "source": [
    "%matplotlib inline\n",
    "log_dict['Cabo Verde'].plot_fit()"
   ]
  },
  {
   "cell_type": "code",
   "execution_count": 18,
   "metadata": {
    "collapsed": false
   },
   "outputs": [
    {
     "data": {
      "text/plain": [
       "{'A': 47.821145983913915, 'lamb': 5.9818331742224151, 'mu': 6.9265057469000091}"
      ]
     },
     "execution_count": 18,
     "metadata": {},
     "output_type": "execute_result"
    }
   ],
   "source": [
    "log_dict['Vietnam'].best_values"
   ]
  },
  {
   "cell_type": "code",
   "execution_count": 17,
   "metadata": {
    "collapsed": false
   },
   "outputs": [
    {
     "data": {
      "text/html": [
       "<div>\n",
       "<table border=\"1\" class=\"dataframe\">\n",
       "  <thead>\n",
       "    <tr style=\"text-align: right;\">\n",
       "      <th></th>\n",
       "      <th>Country Name</th>\n",
       "      <th>Total Population (2015)</th>\n",
       "    </tr>\n",
       "  </thead>\n",
       "  <tbody>\n",
       "    <tr>\n",
       "      <th>0</th>\n",
       "      <td>Afghanistan</td>\n",
       "      <td>32527000</td>\n",
       "    </tr>\n",
       "    <tr>\n",
       "      <th>1</th>\n",
       "      <td>Albania</td>\n",
       "      <td>2906000</td>\n",
       "    </tr>\n",
       "    <tr>\n",
       "      <th>2</th>\n",
       "      <td>Algeria</td>\n",
       "      <td>39667000</td>\n",
       "    </tr>\n",
       "    <tr>\n",
       "      <th>3</th>\n",
       "      <td>American Samoa</td>\n",
       "      <td>56000</td>\n",
       "    </tr>\n",
       "    <tr>\n",
       "      <th>4</th>\n",
       "      <td>Andorra</td>\n",
       "      <td>70000</td>\n",
       "    </tr>\n",
       "  </tbody>\n",
       "</table>\n",
       "</div>"
      ],
      "text/plain": [
       "     Country Name  Total Population (2015)\n",
       "0     Afghanistan                 32527000\n",
       "1         Albania                  2906000\n",
       "2         Algeria                 39667000\n",
       "3  American Samoa                    56000\n",
       "4         Andorra                    70000"
      ]
     },
     "execution_count": 17,
     "metadata": {},
     "output_type": "execute_result"
    }
   ],
   "source": [
    "pop_data = pd.ExcelFile('Total_Population_2015.xlsx')\n",
    "pop_frame = pop_data.parse('Data')\n",
    "pop_frame.head()"
   ]
  },
  {
   "cell_type": "code",
   "execution_count": 18,
   "metadata": {
    "collapsed": true
   },
   "outputs": [],
   "source": [
    "pop_frame=pop_frame[pop_frame['Total Population (2015)']>1000000]"
   ]
  },
  {
   "cell_type": "code",
   "execution_count": 19,
   "metadata": {
    "collapsed": false
   },
   "outputs": [
    {
     "data": {
      "text/plain": [
       "191"
      ]
     },
     "execution_count": 19,
     "metadata": {},
     "output_type": "execute_result"
    }
   ],
   "source": [
    "len(pop_frame)"
   ]
  },
  {
   "cell_type": "code",
   "execution_count": 20,
   "metadata": {
    "collapsed": true
   },
   "outputs": [],
   "source": [
    "estFrame = DataFrame(columns=['Country Name','A','lamb','mu','AIC','BIC'])"
   ]
  },
  {
   "cell_type": "code",
   "execution_count": 21,
   "metadata": {
    "collapsed": true
   },
   "outputs": [],
   "source": [
    "for country in log_dict:\n",
    "    dic = log_dict[country].best_values\n",
    "    dic['Country Name'] = country\n",
    "    dic['AIC']=log_dict[country].aic\n",
    "    dic['BIC']=log_dict[country].bic\n",
    "    estFrame = estFrame.append(dic,ignore_index=True)"
   ]
  },
  {
   "cell_type": "code",
   "execution_count": 22,
   "metadata": {
    "collapsed": true
   },
   "outputs": [],
   "source": [
    "best_est = pd.merge(estFrame,pop_frame,how='inner',\n",
    "                   left_on='Country Name',right_on='Country Name',sort=True)"
   ]
  },
  {
   "cell_type": "code",
   "execution_count": 23,
   "metadata": {
    "collapsed": false
   },
   "outputs": [
    {
     "data": {
      "text/html": [
       "<div>\n",
       "<table border=\"1\" class=\"dataframe\">\n",
       "  <thead>\n",
       "    <tr style=\"text-align: right;\">\n",
       "      <th></th>\n",
       "      <th>Country Name</th>\n",
       "      <th>A</th>\n",
       "      <th>lamb</th>\n",
       "      <th>mu</th>\n",
       "      <th>AIC</th>\n",
       "      <th>BIC</th>\n",
       "      <th>Total Population (2015)</th>\n",
       "    </tr>\n",
       "  </thead>\n",
       "  <tbody>\n",
       "    <tr>\n",
       "      <th>0</th>\n",
       "      <td>Afghanistan</td>\n",
       "      <td>4.645488</td>\n",
       "      <td>9.347052</td>\n",
       "      <td>1.464471</td>\n",
       "      <td>-36.163328</td>\n",
       "      <td>-34.039177</td>\n",
       "      <td>32527000</td>\n",
       "    </tr>\n",
       "    <tr>\n",
       "      <th>1</th>\n",
       "      <td>Algeria</td>\n",
       "      <td>99.804360</td>\n",
       "      <td>-5.413566</td>\n",
       "      <td>-29.739359</td>\n",
       "      <td>114.571053</td>\n",
       "      <td>116.695203</td>\n",
       "      <td>39667000</td>\n",
       "    </tr>\n",
       "    <tr>\n",
       "      <th>2</th>\n",
       "      <td>Angola</td>\n",
       "      <td>40.612634</td>\n",
       "      <td>6.708837</td>\n",
       "      <td>4.235012</td>\n",
       "      <td>17.439057</td>\n",
       "      <td>19.563207</td>\n",
       "      <td>25022000</td>\n",
       "    </tr>\n",
       "    <tr>\n",
       "      <th>3</th>\n",
       "      <td>Arab World</td>\n",
       "      <td>26.765732</td>\n",
       "      <td>5.481151</td>\n",
       "      <td>2.344164</td>\n",
       "      <td>-15.664032</td>\n",
       "      <td>-13.539882</td>\n",
       "      <td>393433000</td>\n",
       "    </tr>\n",
       "    <tr>\n",
       "      <th>4</th>\n",
       "      <td>Argentina</td>\n",
       "      <td>67.215653</td>\n",
       "      <td>-13.756787</td>\n",
       "      <td>2.160769</td>\n",
       "      <td>30.818804</td>\n",
       "      <td>32.942955</td>\n",
       "      <td>43417000</td>\n",
       "    </tr>\n",
       "  </tbody>\n",
       "</table>\n",
       "</div>"
      ],
      "text/plain": [
       "  Country Name          A       lamb         mu         AIC         BIC  \\\n",
       "0  Afghanistan   4.645488   9.347052   1.464471  -36.163328  -34.039177   \n",
       "1      Algeria  99.804360  -5.413566 -29.739359  114.571053  116.695203   \n",
       "2       Angola  40.612634   6.708837   4.235012   17.439057   19.563207   \n",
       "3   Arab World  26.765732   5.481151   2.344164  -15.664032  -13.539882   \n",
       "4    Argentina  67.215653 -13.756787   2.160769   30.818804   32.942955   \n",
       "\n",
       "   Total Population (2015)  \n",
       "0                 32527000  \n",
       "1                 39667000  \n",
       "2                 25022000  \n",
       "3                393433000  \n",
       "4                 43417000  "
      ]
     },
     "execution_count": 23,
     "metadata": {},
     "output_type": "execute_result"
    }
   ],
   "source": [
    "best_est.head()"
   ]
  },
  {
   "cell_type": "code",
   "execution_count": 27,
   "metadata": {
    "collapsed": true
   },
   "outputs": [],
   "source": [
    "writer = pd.ExcelWriter('Logistic_Estimates.xlsx')\n",
    "best_est.to_excel(writer)\n",
    "writer.save()"
   ]
  },
  {
   "cell_type": "code",
   "execution_count": 28,
   "metadata": {
    "collapsed": true
   },
   "outputs": [],
   "source": [
    "lmi = pd.ExcelFile('LMI_Countries.xlsx')\n",
    "lmi = lmi.parse('Sheet1')"
   ]
  },
  {
   "cell_type": "code",
   "execution_count": 29,
   "metadata": {
    "collapsed": true
   },
   "outputs": [],
   "source": [
    "lmi_est = pd.merge(best_est,lmi,how='inner',\n",
    "                   left_on='Country Name',right_on='Country Name',sort=True)"
   ]
  },
  {
   "cell_type": "code",
   "execution_count": 30,
   "metadata": {
    "collapsed": false
   },
   "outputs": [
    {
     "data": {
      "text/html": [
       "<div>\n",
       "<table border=\"1\" class=\"dataframe\">\n",
       "  <thead>\n",
       "    <tr style=\"text-align: right;\">\n",
       "      <th></th>\n",
       "      <th>Country Name</th>\n",
       "      <th>A</th>\n",
       "      <th>lamb</th>\n",
       "      <th>mu</th>\n",
       "      <th>AIC</th>\n",
       "      <th>BIC</th>\n",
       "      <th>Total Population (2015)</th>\n",
       "      <th>Code</th>\n",
       "      <th>Group Name</th>\n",
       "      <th>Country Code</th>\n",
       "    </tr>\n",
       "  </thead>\n",
       "  <tbody>\n",
       "    <tr>\n",
       "      <th>0</th>\n",
       "      <td>Afghanistan</td>\n",
       "      <td>4.645488</td>\n",
       "      <td>9.347052</td>\n",
       "      <td>1.464471</td>\n",
       "      <td>-36.163328</td>\n",
       "      <td>-34.039177</td>\n",
       "      <td>32527000</td>\n",
       "      <td>LMY</td>\n",
       "      <td>Low &amp; middle income</td>\n",
       "      <td>AFG</td>\n",
       "    </tr>\n",
       "    <tr>\n",
       "      <th>1</th>\n",
       "      <td>Algeria</td>\n",
       "      <td>99.804360</td>\n",
       "      <td>-5.413566</td>\n",
       "      <td>-29.739359</td>\n",
       "      <td>114.571053</td>\n",
       "      <td>116.695203</td>\n",
       "      <td>39667000</td>\n",
       "      <td>LMY</td>\n",
       "      <td>Low &amp; middle income</td>\n",
       "      <td>DZA</td>\n",
       "    </tr>\n",
       "    <tr>\n",
       "      <th>2</th>\n",
       "      <td>Angola</td>\n",
       "      <td>40.612634</td>\n",
       "      <td>6.708837</td>\n",
       "      <td>4.235012</td>\n",
       "      <td>17.439057</td>\n",
       "      <td>19.563207</td>\n",
       "      <td>25022000</td>\n",
       "      <td>LMY</td>\n",
       "      <td>Low &amp; middle income</td>\n",
       "      <td>AGO</td>\n",
       "    </tr>\n",
       "    <tr>\n",
       "      <th>3</th>\n",
       "      <td>Armenia</td>\n",
       "      <td>40.410400</td>\n",
       "      <td>8.472485</td>\n",
       "      <td>4.245944</td>\n",
       "      <td>-17.632477</td>\n",
       "      <td>-15.508326</td>\n",
       "      <td>3018000</td>\n",
       "      <td>LMY</td>\n",
       "      <td>Low &amp; middle income</td>\n",
       "      <td>ARM</td>\n",
       "    </tr>\n",
       "    <tr>\n",
       "      <th>4</th>\n",
       "      <td>Azerbaijan</td>\n",
       "      <td>56.260456</td>\n",
       "      <td>10.241360</td>\n",
       "      <td>7.270743</td>\n",
       "      <td>-22.043126</td>\n",
       "      <td>-19.918975</td>\n",
       "      <td>9635000</td>\n",
       "      <td>LMY</td>\n",
       "      <td>Low &amp; middle income</td>\n",
       "      <td>AZE</td>\n",
       "    </tr>\n",
       "  </tbody>\n",
       "</table>\n",
       "</div>"
      ],
      "text/plain": [
       "  Country Name          A       lamb         mu         AIC         BIC  \\\n",
       "0  Afghanistan   4.645488   9.347052   1.464471  -36.163328  -34.039177   \n",
       "1      Algeria  99.804360  -5.413566 -29.739359  114.571053  116.695203   \n",
       "2       Angola  40.612634   6.708837   4.235012   17.439057   19.563207   \n",
       "3      Armenia  40.410400   8.472485   4.245944  -17.632477  -15.508326   \n",
       "4   Azerbaijan  56.260456  10.241360   7.270743  -22.043126  -19.918975   \n",
       "\n",
       "   Total Population (2015) Code           Group Name Country Code  \n",
       "0                 32527000  LMY  Low & middle income          AFG  \n",
       "1                 39667000  LMY  Low & middle income          DZA  \n",
       "2                 25022000  LMY  Low & middle income          AGO  \n",
       "3                  3018000  LMY  Low & middle income          ARM  \n",
       "4                  9635000  LMY  Low & middle income          AZE  "
      ]
     },
     "execution_count": 30,
     "metadata": {},
     "output_type": "execute_result"
    }
   ],
   "source": [
    "lmi_est.head()"
   ]
  },
  {
   "cell_type": "code",
   "execution_count": 31,
   "metadata": {
    "collapsed": true
   },
   "outputs": [],
   "source": [
    "writer2 = pd.ExcelWriter('LMI_Estimates_Logistic.xlsx')\n",
    "lmi_est.to_excel(writer2)\n",
    "writer2.save()"
   ]
  },
  {
   "cell_type": "code",
   "execution_count": 32,
   "metadata": {
    "collapsed": true
   },
   "outputs": [],
   "source": [
    "lmi_est['ART Coverage (2014)'] = dframe2[2014]"
   ]
  },
  {
   "cell_type": "code",
   "execution_count": 33,
   "metadata": {
    "collapsed": true
   },
   "outputs": [],
   "source": [
    "cov = DataFrame.from_dict(dframe2[2014]).reset_index(level=0)"
   ]
  },
  {
   "cell_type": "code",
   "execution_count": 34,
   "metadata": {
    "collapsed": true
   },
   "outputs": [],
   "source": [
    "cov_est = pd.merge(lmi_est,cov,how='inner',\n",
    "                   left_on='Country Name',right_on='Country Name',sort=True)"
   ]
  },
  {
   "cell_type": "code",
   "execution_count": 39,
   "metadata": {
    "collapsed": false
   },
   "outputs": [
    {
     "data": {
      "text/html": [
       "<div>\n",
       "<table border=\"1\" class=\"dataframe\">\n",
       "  <thead>\n",
       "    <tr style=\"text-align: right;\">\n",
       "      <th></th>\n",
       "      <th>Country Name</th>\n",
       "      <th>A</th>\n",
       "      <th>lamb</th>\n",
       "      <th>mu</th>\n",
       "      <th>AIC</th>\n",
       "      <th>BIC</th>\n",
       "      <th>Total Population (2015)</th>\n",
       "      <th>Code</th>\n",
       "      <th>Group Name</th>\n",
       "      <th>Country Code</th>\n",
       "      <th>ART Coverage (2014)</th>\n",
       "      <th>ART Coverage (2014)</th>\n",
       "    </tr>\n",
       "  </thead>\n",
       "  <tbody>\n",
       "    <tr>\n",
       "      <th>0</th>\n",
       "      <td>Afghanistan</td>\n",
       "      <td>4.645488</td>\n",
       "      <td>9.347052</td>\n",
       "      <td>1.464471</td>\n",
       "      <td>-36.163328</td>\n",
       "      <td>-34.039177</td>\n",
       "      <td>32527000</td>\n",
       "      <td>LMY</td>\n",
       "      <td>Low &amp; middle income</td>\n",
       "      <td>AFG</td>\n",
       "      <td>NaN</td>\n",
       "      <td>5.00</td>\n",
       "    </tr>\n",
       "    <tr>\n",
       "      <th>1</th>\n",
       "      <td>Algeria</td>\n",
       "      <td>99.804360</td>\n",
       "      <td>-5.413566</td>\n",
       "      <td>-29.739359</td>\n",
       "      <td>114.571053</td>\n",
       "      <td>116.695203</td>\n",
       "      <td>39667000</td>\n",
       "      <td>LMY</td>\n",
       "      <td>Low &amp; middle income</td>\n",
       "      <td>DZA</td>\n",
       "      <td>NaN</td>\n",
       "      <td>71.25</td>\n",
       "    </tr>\n",
       "    <tr>\n",
       "      <th>2</th>\n",
       "      <td>Angola</td>\n",
       "      <td>40.612634</td>\n",
       "      <td>6.708837</td>\n",
       "      <td>4.235012</td>\n",
       "      <td>17.439057</td>\n",
       "      <td>19.563207</td>\n",
       "      <td>25022000</td>\n",
       "      <td>LMY</td>\n",
       "      <td>Low &amp; middle income</td>\n",
       "      <td>AGO</td>\n",
       "      <td>NaN</td>\n",
       "      <td>31.25</td>\n",
       "    </tr>\n",
       "    <tr>\n",
       "      <th>3</th>\n",
       "      <td>Armenia</td>\n",
       "      <td>40.410400</td>\n",
       "      <td>8.472485</td>\n",
       "      <td>4.245944</td>\n",
       "      <td>-17.632477</td>\n",
       "      <td>-15.508326</td>\n",
       "      <td>3018000</td>\n",
       "      <td>LMY</td>\n",
       "      <td>Low &amp; middle income</td>\n",
       "      <td>ARM</td>\n",
       "      <td>NaN</td>\n",
       "      <td>23.75</td>\n",
       "    </tr>\n",
       "    <tr>\n",
       "      <th>4</th>\n",
       "      <td>Azerbaijan</td>\n",
       "      <td>56.260456</td>\n",
       "      <td>10.241360</td>\n",
       "      <td>7.270743</td>\n",
       "      <td>-22.043126</td>\n",
       "      <td>-19.918975</td>\n",
       "      <td>9635000</td>\n",
       "      <td>LMY</td>\n",
       "      <td>Low &amp; middle income</td>\n",
       "      <td>AZE</td>\n",
       "      <td>NaN</td>\n",
       "      <td>27.50</td>\n",
       "    </tr>\n",
       "  </tbody>\n",
       "</table>\n",
       "</div>"
      ],
      "text/plain": [
       "  Country Name          A       lamb         mu         AIC         BIC  \\\n",
       "0  Afghanistan   4.645488   9.347052   1.464471  -36.163328  -34.039177   \n",
       "1      Algeria  99.804360  -5.413566 -29.739359  114.571053  116.695203   \n",
       "2       Angola  40.612634   6.708837   4.235012   17.439057   19.563207   \n",
       "3      Armenia  40.410400   8.472485   4.245944  -17.632477  -15.508326   \n",
       "4   Azerbaijan  56.260456  10.241360   7.270743  -22.043126  -19.918975   \n",
       "\n",
       "   Total Population (2015) Code           Group Name Country Code  \\\n",
       "0                 32527000  LMY  Low & middle income          AFG   \n",
       "1                 39667000  LMY  Low & middle income          DZA   \n",
       "2                 25022000  LMY  Low & middle income          AGO   \n",
       "3                  3018000  LMY  Low & middle income          ARM   \n",
       "4                  9635000  LMY  Low & middle income          AZE   \n",
       "\n",
       "   ART Coverage (2014)  ART Coverage (2014)  \n",
       "0                  NaN                 5.00  \n",
       "1                  NaN                71.25  \n",
       "2                  NaN                31.25  \n",
       "3                  NaN                23.75  \n",
       "4                  NaN                27.50  "
      ]
     },
     "execution_count": 39,
     "metadata": {},
     "output_type": "execute_result"
    }
   ],
   "source": [
    "cov_est.head()"
   ]
  },
  {
   "cell_type": "code",
   "execution_count": 36,
   "metadata": {
    "collapsed": true
   },
   "outputs": [],
   "source": [
    "cov_est.rename(columns={2014:'ART Coverage (2014)'},inplace=True)"
   ]
  },
  {
   "cell_type": "code",
   "execution_count": 40,
   "metadata": {
    "collapsed": true
   },
   "outputs": [],
   "source": [
    "writer3 = pd.ExcelWriter('Coverage and Estimates - Logistic.xlsx')\n",
    "cov_est.to_excel(writer3)\n",
    "writer3.save()"
   ]
  },
  {
   "cell_type": "code",
   "execution_count": null,
   "metadata": {
    "collapsed": true
   },
   "outputs": [],
   "source": []
  }
 ],
 "metadata": {
  "kernelspec": {
   "display_name": "Python [default]",
   "language": "python",
   "name": "python3"
  },
  "language_info": {
   "codemirror_mode": {
    "name": "ipython",
    "version": 3
   },
   "file_extension": ".py",
   "mimetype": "text/x-python",
   "name": "python",
   "nbconvert_exporter": "python",
   "pygments_lexer": "ipython3",
   "version": "3.5.1"
  }
 },
 "nbformat": 4,
 "nbformat_minor": 0
}
